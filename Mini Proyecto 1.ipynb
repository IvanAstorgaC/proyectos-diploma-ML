{
 "cells": [
  {
   "cell_type": "markdown",
   "id": "44c151b1",
   "metadata": {},
   "source": [
    "## 1. Lectura y análisis exploratorio de datos"
   ]
  },
  {
   "cell_type": "code",
   "execution_count": 51,
   "id": "afe63460",
   "metadata": {},
   "outputs": [],
   "source": [
    "#Importamos las Librerias necesarias\n",
    "import numpy as np\n",
    "import pandas as pd"
   ]
  },
  {
   "cell_type": "code",
   "execution_count": 52,
   "id": "ae57dee8",
   "metadata": {},
   "outputs": [],
   "source": [
    "#Cargamos los datos\n",
    "df = pd.read_csv('ejemplo_data.csv')"
   ]
  },
  {
   "cell_type": "code",
   "execution_count": 53,
   "id": "6fdf9058",
   "metadata": {},
   "outputs": [
    {
     "data": {
      "text/html": [
       "<div>\n",
       "<style scoped>\n",
       "    .dataframe tbody tr th:only-of-type {\n",
       "        vertical-align: middle;\n",
       "    }\n",
       "\n",
       "    .dataframe tbody tr th {\n",
       "        vertical-align: top;\n",
       "    }\n",
       "\n",
       "    .dataframe thead th {\n",
       "        text-align: right;\n",
       "    }\n",
       "</style>\n",
       "<table border=\"1\" class=\"dataframe\">\n",
       "  <thead>\n",
       "    <tr style=\"text-align: right;\">\n",
       "      <th></th>\n",
       "      <th>ID</th>\n",
       "      <th>Nombre</th>\n",
       "      <th>2016</th>\n",
       "      <th>2017</th>\n",
       "      <th>Crecimiento</th>\n",
       "      <th>Unidades</th>\n",
       "      <th>fecha</th>\n",
       "      <th>Activo</th>\n",
       "    </tr>\n",
       "  </thead>\n",
       "  <tbody>\n",
       "    <tr>\n",
       "      <th>0</th>\n",
       "      <td>10002</td>\n",
       "      <td>Verde Mar</td>\n",
       "      <td>$125,000.00</td>\n",
       "      <td>$162500.00</td>\n",
       "      <td>30.00%</td>\n",
       "      <td>500</td>\n",
       "      <td>1-10-2015</td>\n",
       "      <td>1</td>\n",
       "    </tr>\n",
       "    <tr>\n",
       "      <th>1</th>\n",
       "      <td>552278</td>\n",
       "      <td>Manantial sa</td>\n",
       "      <td>$920,000.00</td>\n",
       "      <td>$101,2000.00</td>\n",
       "      <td>10.00%</td>\n",
       "      <td>700</td>\n",
       "      <td>6-23-2014</td>\n",
       "      <td>0</td>\n",
       "    </tr>\n",
       "    <tr>\n",
       "      <th>2</th>\n",
       "      <td>23477</td>\n",
       "      <td>ACME</td>\n",
       "      <td>$50,000.00</td>\n",
       "      <td>62500.00</td>\n",
       "      <td>25.00%</td>\n",
       "      <td>125</td>\n",
       "      <td>3-12-2016</td>\n",
       "      <td>1</td>\n",
       "    </tr>\n",
       "    <tr>\n",
       "      <th>3</th>\n",
       "      <td>24900</td>\n",
       "      <td>Andes sur</td>\n",
       "      <td>$350,000.00</td>\n",
       "      <td>490000.00</td>\n",
       "      <td>4.00%</td>\n",
       "      <td>75</td>\n",
       "      <td>10-28-2015</td>\n",
       "      <td>1</td>\n",
       "    </tr>\n",
       "    <tr>\n",
       "      <th>4</th>\n",
       "      <td>651029</td>\n",
       "      <td>San Pablo</td>\n",
       "      <td>$15,000.00</td>\n",
       "      <td>$12750.00</td>\n",
       "      <td>-15.00%</td>\n",
       "      <td>No</td>\n",
       "      <td>2-15-2014</td>\n",
       "      <td>0</td>\n",
       "    </tr>\n",
       "    <tr>\n",
       "      <th>5</th>\n",
       "      <td>651029</td>\n",
       "      <td>San Pablo</td>\n",
       "      <td>-$15,000.00</td>\n",
       "      <td>$ 12750.00</td>\n",
       "      <td>-15.00%</td>\n",
       "      <td>No</td>\n",
       "      <td>2-15-2014</td>\n",
       "      <td>n</td>\n",
       "    </tr>\n",
       "  </tbody>\n",
       "</table>\n",
       "</div>"
      ],
      "text/plain": [
       "       ID        Nombre         2016          2017 Crecimiento Unidades  \\\n",
       "0   10002     Verde Mar  $125,000.00    $162500.00      30.00%      500   \n",
       "1  552278  Manantial sa  $920,000.00  $101,2000.00      10.00%      700   \n",
       "2   23477          ACME   $50,000.00      62500.00      25.00%      125   \n",
       "3   24900     Andes sur  $350,000.00     490000.00       4.00%       75   \n",
       "4  651029     San Pablo   $15,000.00     $12750.00     -15.00%       No   \n",
       "5  651029     San Pablo  -$15,000.00    $ 12750.00     -15.00%       No   \n",
       "\n",
       "        fecha Activo  \n",
       "0   1-10-2015      1  \n",
       "1   6-23-2014      0  \n",
       "2   3-12-2016      1  \n",
       "3  10-28-2015      1  \n",
       "4   2-15-2014      0  \n",
       "5   2-15-2014      n  "
      ]
     },
     "execution_count": 53,
     "metadata": {},
     "output_type": "execute_result"
    }
   ],
   "source": [
    "df"
   ]
  },
  {
   "cell_type": "code",
   "execution_count": 54,
   "id": "20ba61ef",
   "metadata": {},
   "outputs": [
    {
     "name": "stdout",
     "output_type": "stream",
     "text": [
      "<class 'pandas.core.frame.DataFrame'>\n",
      "RangeIndex: 6 entries, 0 to 5\n",
      "Data columns (total 8 columns):\n",
      " #   Column       Non-Null Count  Dtype \n",
      "---  ------       --------------  ----- \n",
      " 0   ID           6 non-null      int64 \n",
      " 1   Nombre       6 non-null      object\n",
      " 2   2016         6 non-null      object\n",
      " 3   2017         6 non-null      object\n",
      " 4   Crecimiento  6 non-null      object\n",
      " 5   Unidades     6 non-null      object\n",
      " 6   fecha        6 non-null      object\n",
      " 7   Activo       6 non-null      object\n",
      "dtypes: int64(1), object(7)\n",
      "memory usage: 512.0+ bytes\n"
     ]
    }
   ],
   "source": [
    "#Exploramos los datos\n",
    "df.info()"
   ]
  },
  {
   "cell_type": "markdown",
   "id": "90f7b3af",
   "metadata": {},
   "source": [
    "Podemos ver que todas nuestras columnas, a excepción de ID (Entero), son objetos "
   ]
  },
  {
   "cell_type": "code",
   "execution_count": 55,
   "id": "753b29c9",
   "metadata": {
    "scrolled": true
   },
   "outputs": [
    {
     "data": {
      "text/html": [
       "<div>\n",
       "<style scoped>\n",
       "    .dataframe tbody tr th:only-of-type {\n",
       "        vertical-align: middle;\n",
       "    }\n",
       "\n",
       "    .dataframe tbody tr th {\n",
       "        vertical-align: top;\n",
       "    }\n",
       "\n",
       "    .dataframe thead th {\n",
       "        text-align: right;\n",
       "    }\n",
       "</style>\n",
       "<table border=\"1\" class=\"dataframe\">\n",
       "  <thead>\n",
       "    <tr style=\"text-align: right;\">\n",
       "      <th></th>\n",
       "      <th>ID</th>\n",
       "      <th>Nombre</th>\n",
       "      <th>2016</th>\n",
       "      <th>2017</th>\n",
       "      <th>Crecimiento</th>\n",
       "      <th>Unidades</th>\n",
       "      <th>fecha</th>\n",
       "      <th>Activo</th>\n",
       "    </tr>\n",
       "  </thead>\n",
       "  <tbody>\n",
       "    <tr>\n",
       "      <th>0</th>\n",
       "      <td>10002</td>\n",
       "      <td>Verde Mar</td>\n",
       "      <td>$125,000.00</td>\n",
       "      <td>$162500.00</td>\n",
       "      <td>30.00%</td>\n",
       "      <td>500</td>\n",
       "      <td>1-10-2015</td>\n",
       "      <td>1.0</td>\n",
       "    </tr>\n",
       "    <tr>\n",
       "      <th>1</th>\n",
       "      <td>552278</td>\n",
       "      <td>Manantial sa</td>\n",
       "      <td>$920,000.00</td>\n",
       "      <td>$101,2000.00</td>\n",
       "      <td>10.00%</td>\n",
       "      <td>700</td>\n",
       "      <td>6-23-2014</td>\n",
       "      <td>0.0</td>\n",
       "    </tr>\n",
       "    <tr>\n",
       "      <th>2</th>\n",
       "      <td>23477</td>\n",
       "      <td>ACME</td>\n",
       "      <td>$50,000.00</td>\n",
       "      <td>62500.00</td>\n",
       "      <td>25.00%</td>\n",
       "      <td>125</td>\n",
       "      <td>3-12-2016</td>\n",
       "      <td>1.0</td>\n",
       "    </tr>\n",
       "    <tr>\n",
       "      <th>3</th>\n",
       "      <td>24900</td>\n",
       "      <td>Andes sur</td>\n",
       "      <td>$350,000.00</td>\n",
       "      <td>490000.00</td>\n",
       "      <td>4.00%</td>\n",
       "      <td>75</td>\n",
       "      <td>10-28-2015</td>\n",
       "      <td>1.0</td>\n",
       "    </tr>\n",
       "    <tr>\n",
       "      <th>4</th>\n",
       "      <td>651029</td>\n",
       "      <td>San Pablo</td>\n",
       "      <td>$15,000.00</td>\n",
       "      <td>$12750.00</td>\n",
       "      <td>-15.00%</td>\n",
       "      <td>No</td>\n",
       "      <td>2-15-2014</td>\n",
       "      <td>0.0</td>\n",
       "    </tr>\n",
       "    <tr>\n",
       "      <th>5</th>\n",
       "      <td>651029</td>\n",
       "      <td>San Pablo</td>\n",
       "      <td>-$15,000.00</td>\n",
       "      <td>$ 12750.00</td>\n",
       "      <td>-15.00%</td>\n",
       "      <td>No</td>\n",
       "      <td>2-15-2014</td>\n",
       "      <td>NaN</td>\n",
       "    </tr>\n",
       "  </tbody>\n",
       "</table>\n",
       "</div>"
      ],
      "text/plain": [
       "       ID        Nombre         2016          2017 Crecimiento Unidades  \\\n",
       "0   10002     Verde Mar  $125,000.00    $162500.00      30.00%      500   \n",
       "1  552278  Manantial sa  $920,000.00  $101,2000.00      10.00%      700   \n",
       "2   23477          ACME   $50,000.00      62500.00      25.00%      125   \n",
       "3   24900     Andes sur  $350,000.00     490000.00       4.00%       75   \n",
       "4  651029     San Pablo   $15,000.00     $12750.00     -15.00%       No   \n",
       "5  651029     San Pablo  -$15,000.00    $ 12750.00     -15.00%       No   \n",
       "\n",
       "        fecha  Activo  \n",
       "0   1-10-2015     1.0  \n",
       "1   6-23-2014     0.0  \n",
       "2   3-12-2016     1.0  \n",
       "3  10-28-2015     1.0  \n",
       "4   2-15-2014     0.0  \n",
       "5   2-15-2014     NaN  "
      ]
     },
     "execution_count": 55,
     "metadata": {},
     "output_type": "execute_result"
    }
   ],
   "source": [
    "#Transformamos a valores numericos la columna activo para despues pasarla a booleana\n",
    "df.Activo=pd.to_numeric(df.Activo, errors='coerce')\n",
    "df"
   ]
  },
  {
   "cell_type": "code",
   "execution_count": 56,
   "id": "b5c4e6e7",
   "metadata": {},
   "outputs": [
    {
     "data": {
      "text/html": [
       "<div>\n",
       "<style scoped>\n",
       "    .dataframe tbody tr th:only-of-type {\n",
       "        vertical-align: middle;\n",
       "    }\n",
       "\n",
       "    .dataframe tbody tr th {\n",
       "        vertical-align: top;\n",
       "    }\n",
       "\n",
       "    .dataframe thead th {\n",
       "        text-align: right;\n",
       "    }\n",
       "</style>\n",
       "<table border=\"1\" class=\"dataframe\">\n",
       "  <thead>\n",
       "    <tr style=\"text-align: right;\">\n",
       "      <th></th>\n",
       "      <th>ID</th>\n",
       "      <th>Nombre</th>\n",
       "      <th>2016</th>\n",
       "      <th>2017</th>\n",
       "      <th>Crecimiento</th>\n",
       "      <th>Unidades</th>\n",
       "      <th>fecha</th>\n",
       "      <th>Activo</th>\n",
       "    </tr>\n",
       "  </thead>\n",
       "  <tbody>\n",
       "    <tr>\n",
       "      <th>0</th>\n",
       "      <td>10002</td>\n",
       "      <td>Verde Mar</td>\n",
       "      <td>$125,000.00</td>\n",
       "      <td>$162500.00</td>\n",
       "      <td>30.00%</td>\n",
       "      <td>500</td>\n",
       "      <td>1-10-2015</td>\n",
       "      <td>True</td>\n",
       "    </tr>\n",
       "    <tr>\n",
       "      <th>1</th>\n",
       "      <td>552278</td>\n",
       "      <td>Manantial sa</td>\n",
       "      <td>$920,000.00</td>\n",
       "      <td>$101,2000.00</td>\n",
       "      <td>10.00%</td>\n",
       "      <td>700</td>\n",
       "      <td>6-23-2014</td>\n",
       "      <td>False</td>\n",
       "    </tr>\n",
       "    <tr>\n",
       "      <th>2</th>\n",
       "      <td>23477</td>\n",
       "      <td>ACME</td>\n",
       "      <td>$50,000.00</td>\n",
       "      <td>62500.00</td>\n",
       "      <td>25.00%</td>\n",
       "      <td>125</td>\n",
       "      <td>3-12-2016</td>\n",
       "      <td>True</td>\n",
       "    </tr>\n",
       "    <tr>\n",
       "      <th>3</th>\n",
       "      <td>24900</td>\n",
       "      <td>Andes sur</td>\n",
       "      <td>$350,000.00</td>\n",
       "      <td>490000.00</td>\n",
       "      <td>4.00%</td>\n",
       "      <td>75</td>\n",
       "      <td>10-28-2015</td>\n",
       "      <td>True</td>\n",
       "    </tr>\n",
       "    <tr>\n",
       "      <th>4</th>\n",
       "      <td>651029</td>\n",
       "      <td>San Pablo</td>\n",
       "      <td>$15,000.00</td>\n",
       "      <td>$12750.00</td>\n",
       "      <td>-15.00%</td>\n",
       "      <td>No</td>\n",
       "      <td>2-15-2014</td>\n",
       "      <td>False</td>\n",
       "    </tr>\n",
       "    <tr>\n",
       "      <th>5</th>\n",
       "      <td>651029</td>\n",
       "      <td>San Pablo</td>\n",
       "      <td>-$15,000.00</td>\n",
       "      <td>$ 12750.00</td>\n",
       "      <td>-15.00%</td>\n",
       "      <td>No</td>\n",
       "      <td>2-15-2014</td>\n",
       "      <td>False</td>\n",
       "    </tr>\n",
       "  </tbody>\n",
       "</table>\n",
       "</div>"
      ],
      "text/plain": [
       "       ID        Nombre         2016          2017 Crecimiento Unidades  \\\n",
       "0   10002     Verde Mar  $125,000.00    $162500.00      30.00%      500   \n",
       "1  552278  Manantial sa  $920,000.00  $101,2000.00      10.00%      700   \n",
       "2   23477          ACME   $50,000.00      62500.00      25.00%      125   \n",
       "3   24900     Andes sur  $350,000.00     490000.00       4.00%       75   \n",
       "4  651029     San Pablo   $15,000.00     $12750.00     -15.00%       No   \n",
       "5  651029     San Pablo  -$15,000.00    $ 12750.00     -15.00%       No   \n",
       "\n",
       "        fecha  Activo  \n",
       "0   1-10-2015    True  \n",
       "1   6-23-2014   False  \n",
       "2   3-12-2016    True  \n",
       "3  10-28-2015    True  \n",
       "4   2-15-2014   False  \n",
       "5   2-15-2014   False  "
      ]
     },
     "execution_count": 56,
     "metadata": {},
     "output_type": "execute_result"
    }
   ],
   "source": [
    "#Rellenamos los datos faltantes con 0 y luego transformamos usanto astype \n",
    "df['Activo']=df.Activo.fillna(0)\n",
    "df['Activo']=df['Activo'].astype('bool')\n",
    "df"
   ]
  },
  {
   "cell_type": "code",
   "execution_count": 57,
   "id": "b19a5498",
   "metadata": {},
   "outputs": [],
   "source": [
    "df.Unidades=pd.to_numeric(df.Unidades,errors='coerce')\n",
    "df['Unidades']= df['Unidades'].fillna(df['Unidades'].mean())\n",
    "df.Unidades=df.Unidades.astype('int')"
   ]
  },
  {
   "cell_type": "code",
   "execution_count": 58,
   "id": "810b83f2",
   "metadata": {},
   "outputs": [
    {
     "name": "stdout",
     "output_type": "stream",
     "text": [
      "<class 'pandas.core.frame.DataFrame'>\n",
      "RangeIndex: 6 entries, 0 to 5\n",
      "Data columns (total 8 columns):\n",
      " #   Column       Non-Null Count  Dtype \n",
      "---  ------       --------------  ----- \n",
      " 0   ID           6 non-null      int64 \n",
      " 1   Nombre       6 non-null      object\n",
      " 2   2016         6 non-null      object\n",
      " 3   2017         6 non-null      object\n",
      " 4   Crecimiento  6 non-null      object\n",
      " 5   Unidades     6 non-null      int32 \n",
      " 6   fecha        6 non-null      object\n",
      " 7   Activo       6 non-null      bool  \n",
      "dtypes: bool(1), int32(1), int64(1), object(5)\n",
      "memory usage: 446.0+ bytes\n"
     ]
    }
   ],
   "source": [
    "df.info()"
   ]
  },
  {
   "cell_type": "code",
   "execution_count": 59,
   "id": "cda85122",
   "metadata": {},
   "outputs": [
    {
     "name": "stdout",
     "output_type": "stream",
     "text": [
      "<class 'pandas.core.frame.DataFrame'>\n",
      "RangeIndex: 6 entries, 0 to 5\n",
      "Data columns (total 8 columns):\n",
      " #   Column       Non-Null Count  Dtype  \n",
      "---  ------       --------------  -----  \n",
      " 0   ID           6 non-null      int64  \n",
      " 1   Nombre       6 non-null      object \n",
      " 2   2016         6 non-null      float64\n",
      " 3   2017         6 non-null      object \n",
      " 4   Crecimiento  6 non-null      object \n",
      " 5   Unidades     6 non-null      int32  \n",
      " 6   fecha        6 non-null      object \n",
      " 7   Activo       6 non-null      bool   \n",
      "dtypes: bool(1), float64(1), int32(1), int64(1), object(4)\n",
      "memory usage: 446.0+ bytes\n"
     ]
    }
   ],
   "source": [
    "df['2016']=df['2016'].replace(to_replace='[$,.,]',value='',regex=True) # Reemplazamos los simbolos $ , y . por un espacio vacio\n",
    "df['2016']=df['2016'].astype('float') # transformamos la columna a flotante\n",
    "df.info()"
   ]
  },
  {
   "cell_type": "markdown",
   "id": "647e7255",
   "metadata": {},
   "source": [
    "## 2. Estadísticas descriptivas"
   ]
  },
  {
   "cell_type": "markdown",
   "id": "f2c8faa8",
   "metadata": {},
   "source": [
    "Creamos un diccionario de distintas cervezas con su respectivo nivel de Alcohol e IBU."
   ]
  },
  {
   "cell_type": "code",
   "execution_count": 60,
   "id": "3a66b8b1",
   "metadata": {},
   "outputs": [],
   "source": [
    "#Creamos el diccionario\n",
    "\n",
    "cervezas = {\n",
    "    \"Kunstmann Torobayo\": {\n",
    "        \"Alcohol\": 5,\n",
    "        \"IBU\": 12,\n",
    "        },\n",
    "    \"Kunstmann Lager\": {\n",
    "        \"Alcohol\": 4.3,\n",
    "        \"IBU\": 16,\n",
    "        },\n",
    "    \"Kunstmann Bock\": {\n",
    "        \"Alcohol\": 5.3,\n",
    "        \"IBU\": 19,\n",
    "        },\n",
    "    \"Kunstmann IPA\": {\n",
    "        \"Alcohol\": 5,\n",
    "        \"IBU\": 50,\n",
    "        },\n",
    "    \"Austral Lager\": {\n",
    "        \"Alcohol\": 4.6,\n",
    "        \"IBU\": 16,\n",
    "        },\n",
    "    \"Austral Torres del Paine\": {\n",
    "        \"Alcohol\": 6.1,\n",
    "        \"IBU\": 21,\n",
    "        },\n",
    "    \"+56 Stout\": {\n",
    "        \"Alcohol\": 7,\n",
    "        \"IBU\": 30,\n",
    "        },\n",
    "    \"+56 Pale Ale\": {\n",
    "        \"Alcohol\": 5,\n",
    "        \"IBU\": 18,\n",
    "        },\n",
    "    \"Cuello Negro Stout\": {\n",
    "        \"Alcohol\": 8,\n",
    "        \"IBU\": 56,\n",
    "        },\n",
    "    \"Cristal\": {\n",
    "        \"Alcohol\": 4.6,\n",
    "        \"IBU\": 17,\n",
    "        },\n",
    "    \"Becker\": {\n",
    "        \"Alcohol\": 4.5,\n",
    "        \"IBU\": 14.5,\n",
    "        },\n",
    "    \"Escudo\": {\n",
    "        \"Alcohol\": 5.5,\n",
    "        \"IBU\": 19,\n",
    "        },\n",
    "    \"Royal Guard\": {\n",
    "        \"Alcohol\": 5,\n",
    "        \"IBU\": 19,\n",
    "        },\n",
    "     \"Royal Guard IPA\": {\n",
    "        \"Alcohol\": 6.3,\n",
    "        \"IBU\": 48,\n",
    "        },\n",
    "     \"Guayacán Golden Ale\": {\n",
    "        \"Alcohol\": 4.5,\n",
    "        \"IBU\": 24,\n",
    "        },\n",
    "     \"Guayacán Stout\": {\n",
    "        \"Alcohol\": 6,\n",
    "        \"IBU\": 16,\n",
    "        },\n",
    "    \"Kross Golden\": {\n",
    "        \"Alcohol\": 5.3,\n",
    "        \"IBU\": 25,\n",
    "        },\n",
    "    \"Del Puerto Amber Ale\": {\n",
    "        \"Alcohol\": 4.5,\n",
    "        \"IBU\": 18,\n",
    "        },\n",
    "    \"Mestra Wood Beer\": {\n",
    "        \"Alcohol\": 7.0,\n",
    "        \"IBU\": 10.3,\n",
    "        },\n",
    "    \"Mestra Scotch Ale\": {\n",
    "        \"Alcohol\": 6.5,\n",
    "        \"IBU\": 10.8,\n",
    "        },\n",
    "}\n",
    "\n"
   ]
  },
  {
   "cell_type": "code",
   "execution_count": 61,
   "id": "43f51b66",
   "metadata": {},
   "outputs": [
    {
     "data": {
      "text/html": [
       "<div>\n",
       "<style scoped>\n",
       "    .dataframe tbody tr th:only-of-type {\n",
       "        vertical-align: middle;\n",
       "    }\n",
       "\n",
       "    .dataframe tbody tr th {\n",
       "        vertical-align: top;\n",
       "    }\n",
       "\n",
       "    .dataframe thead th {\n",
       "        text-align: right;\n",
       "    }\n",
       "</style>\n",
       "<table border=\"1\" class=\"dataframe\">\n",
       "  <thead>\n",
       "    <tr style=\"text-align: right;\">\n",
       "      <th></th>\n",
       "      <th>Cerveza</th>\n",
       "      <th>Alcohol</th>\n",
       "      <th>IBU</th>\n",
       "    </tr>\n",
       "  </thead>\n",
       "  <tbody>\n",
       "    <tr>\n",
       "      <th>0</th>\n",
       "      <td>Kunstmann Torobayo</td>\n",
       "      <td>5.0</td>\n",
       "      <td>12.0</td>\n",
       "    </tr>\n",
       "    <tr>\n",
       "      <th>1</th>\n",
       "      <td>Kunstmann Lager</td>\n",
       "      <td>4.3</td>\n",
       "      <td>16.0</td>\n",
       "    </tr>\n",
       "    <tr>\n",
       "      <th>2</th>\n",
       "      <td>Kunstmann Bock</td>\n",
       "      <td>5.3</td>\n",
       "      <td>19.0</td>\n",
       "    </tr>\n",
       "    <tr>\n",
       "      <th>3</th>\n",
       "      <td>Kunstmann IPA</td>\n",
       "      <td>5.0</td>\n",
       "      <td>50.0</td>\n",
       "    </tr>\n",
       "    <tr>\n",
       "      <th>4</th>\n",
       "      <td>Austral Lager</td>\n",
       "      <td>4.6</td>\n",
       "      <td>16.0</td>\n",
       "    </tr>\n",
       "    <tr>\n",
       "      <th>5</th>\n",
       "      <td>Austral Torres del Paine</td>\n",
       "      <td>6.1</td>\n",
       "      <td>21.0</td>\n",
       "    </tr>\n",
       "    <tr>\n",
       "      <th>6</th>\n",
       "      <td>+56 Stout</td>\n",
       "      <td>7.0</td>\n",
       "      <td>30.0</td>\n",
       "    </tr>\n",
       "    <tr>\n",
       "      <th>7</th>\n",
       "      <td>+56 Pale Ale</td>\n",
       "      <td>5.0</td>\n",
       "      <td>18.0</td>\n",
       "    </tr>\n",
       "    <tr>\n",
       "      <th>8</th>\n",
       "      <td>Cuello Negro Stout</td>\n",
       "      <td>8.0</td>\n",
       "      <td>56.0</td>\n",
       "    </tr>\n",
       "    <tr>\n",
       "      <th>9</th>\n",
       "      <td>Cristal</td>\n",
       "      <td>4.6</td>\n",
       "      <td>17.0</td>\n",
       "    </tr>\n",
       "    <tr>\n",
       "      <th>10</th>\n",
       "      <td>Becker</td>\n",
       "      <td>4.5</td>\n",
       "      <td>14.5</td>\n",
       "    </tr>\n",
       "    <tr>\n",
       "      <th>11</th>\n",
       "      <td>Escudo</td>\n",
       "      <td>5.5</td>\n",
       "      <td>19.0</td>\n",
       "    </tr>\n",
       "    <tr>\n",
       "      <th>12</th>\n",
       "      <td>Royal Guard</td>\n",
       "      <td>5.0</td>\n",
       "      <td>19.0</td>\n",
       "    </tr>\n",
       "    <tr>\n",
       "      <th>13</th>\n",
       "      <td>Royal Guard IPA</td>\n",
       "      <td>6.3</td>\n",
       "      <td>48.0</td>\n",
       "    </tr>\n",
       "    <tr>\n",
       "      <th>14</th>\n",
       "      <td>Guayacán Golden Ale</td>\n",
       "      <td>4.5</td>\n",
       "      <td>24.0</td>\n",
       "    </tr>\n",
       "    <tr>\n",
       "      <th>15</th>\n",
       "      <td>Guayacán Stout</td>\n",
       "      <td>6.0</td>\n",
       "      <td>16.0</td>\n",
       "    </tr>\n",
       "    <tr>\n",
       "      <th>16</th>\n",
       "      <td>Kross Golden</td>\n",
       "      <td>5.3</td>\n",
       "      <td>25.0</td>\n",
       "    </tr>\n",
       "    <tr>\n",
       "      <th>17</th>\n",
       "      <td>Del Puerto Amber Ale</td>\n",
       "      <td>4.5</td>\n",
       "      <td>18.0</td>\n",
       "    </tr>\n",
       "    <tr>\n",
       "      <th>18</th>\n",
       "      <td>Mestra Wood Beer</td>\n",
       "      <td>7.0</td>\n",
       "      <td>10.3</td>\n",
       "    </tr>\n",
       "    <tr>\n",
       "      <th>19</th>\n",
       "      <td>Mestra Scotch Ale</td>\n",
       "      <td>6.5</td>\n",
       "      <td>10.8</td>\n",
       "    </tr>\n",
       "  </tbody>\n",
       "</table>\n",
       "</div>"
      ],
      "text/plain": [
       "                     Cerveza  Alcohol   IBU\n",
       "0         Kunstmann Torobayo      5.0  12.0\n",
       "1            Kunstmann Lager      4.3  16.0\n",
       "2             Kunstmann Bock      5.3  19.0\n",
       "3              Kunstmann IPA      5.0  50.0\n",
       "4              Austral Lager      4.6  16.0\n",
       "5   Austral Torres del Paine      6.1  21.0\n",
       "6                  +56 Stout      7.0  30.0\n",
       "7               +56 Pale Ale      5.0  18.0\n",
       "8         Cuello Negro Stout      8.0  56.0\n",
       "9                    Cristal      4.6  17.0\n",
       "10                    Becker      4.5  14.5\n",
       "11                    Escudo      5.5  19.0\n",
       "12               Royal Guard      5.0  19.0\n",
       "13           Royal Guard IPA      6.3  48.0\n",
       "14       Guayacán Golden Ale      4.5  24.0\n",
       "15            Guayacán Stout      6.0  16.0\n",
       "16              Kross Golden      5.3  25.0\n",
       "17      Del Puerto Amber Ale      4.5  18.0\n",
       "18          Mestra Wood Beer      7.0  10.3\n",
       "19         Mestra Scotch Ale      6.5  10.8"
      ]
     },
     "execution_count": 61,
     "metadata": {},
     "output_type": "execute_result"
    }
   ],
   "source": [
    "df_cervezas = pd.DataFrame([key for key in cervezas.keys()], columns=['Cerveza']) # creamos el dataframe solo con los nombres de las cervezas\n",
    "df_cervezas['Alcohol'] = [value['Alcohol'] for value in cervezas.values()] # Usamos List Comprehension para crear las columnas de manera mas facil\n",
    "df_cervezas['IBU'] = [value['IBU'] for value in cervezas.values()]\n",
    "df_cervezas"
   ]
  },
  {
   "cell_type": "code",
   "execution_count": 62,
   "id": "74f93a9f",
   "metadata": {
    "scrolled": true
   },
   "outputs": [
    {
     "data": {
      "text/html": [
       "<div>\n",
       "<style scoped>\n",
       "    .dataframe tbody tr th:only-of-type {\n",
       "        vertical-align: middle;\n",
       "    }\n",
       "\n",
       "    .dataframe tbody tr th {\n",
       "        vertical-align: top;\n",
       "    }\n",
       "\n",
       "    .dataframe thead th {\n",
       "        text-align: right;\n",
       "    }\n",
       "</style>\n",
       "<table border=\"1\" class=\"dataframe\">\n",
       "  <thead>\n",
       "    <tr style=\"text-align: right;\">\n",
       "      <th></th>\n",
       "      <th>Alcohol</th>\n",
       "      <th>IBU</th>\n",
       "    </tr>\n",
       "  </thead>\n",
       "  <tbody>\n",
       "    <tr>\n",
       "      <th>count</th>\n",
       "      <td>20.000000</td>\n",
       "      <td>20.000000</td>\n",
       "    </tr>\n",
       "    <tr>\n",
       "      <th>mean</th>\n",
       "      <td>5.500000</td>\n",
       "      <td>22.980000</td>\n",
       "    </tr>\n",
       "    <tr>\n",
       "      <th>std</th>\n",
       "      <td>1.029563</td>\n",
       "      <td>13.149689</td>\n",
       "    </tr>\n",
       "    <tr>\n",
       "      <th>min</th>\n",
       "      <td>4.300000</td>\n",
       "      <td>10.300000</td>\n",
       "    </tr>\n",
       "    <tr>\n",
       "      <th>25%</th>\n",
       "      <td>4.600000</td>\n",
       "      <td>16.000000</td>\n",
       "    </tr>\n",
       "    <tr>\n",
       "      <th>50%</th>\n",
       "      <td>5.150000</td>\n",
       "      <td>18.500000</td>\n",
       "    </tr>\n",
       "    <tr>\n",
       "      <th>75%</th>\n",
       "      <td>6.150000</td>\n",
       "      <td>24.250000</td>\n",
       "    </tr>\n",
       "    <tr>\n",
       "      <th>max</th>\n",
       "      <td>8.000000</td>\n",
       "      <td>56.000000</td>\n",
       "    </tr>\n",
       "  </tbody>\n",
       "</table>\n",
       "</div>"
      ],
      "text/plain": [
       "         Alcohol        IBU\n",
       "count  20.000000  20.000000\n",
       "mean    5.500000  22.980000\n",
       "std     1.029563  13.149689\n",
       "min     4.300000  10.300000\n",
       "25%     4.600000  16.000000\n",
       "50%     5.150000  18.500000\n",
       "75%     6.150000  24.250000\n",
       "max     8.000000  56.000000"
      ]
     },
     "execution_count": 62,
     "metadata": {},
     "output_type": "execute_result"
    }
   ],
   "source": [
    "#Usamos el atributo describe, el cual nos entrega algunas medidas centrales y de dispersión.\n",
    "df_cervezas.describe()"
   ]
  },
  {
   "cell_type": "markdown",
   "id": "9b54de6f",
   "metadata": {},
   "source": [
    "Notamos que la media de alcohol es 5.5 y la de IBU es 22.98  \n",
    "la mediana del acohol es 5.15 y la de IBU es 18.5.   \n",
    "El metodo describe no nos entrega la moda, así que usaremos el atributo mode() para hacerlo"
   ]
  },
  {
   "cell_type": "code",
   "execution_count": 63,
   "id": "db3aa5e9",
   "metadata": {},
   "outputs": [
    {
     "data": {
      "text/plain": [
       "0    16.0\n",
       "1    19.0\n",
       "dtype: float64"
      ]
     },
     "execution_count": 63,
     "metadata": {},
     "output_type": "execute_result"
    }
   ],
   "source": [
    "df_cervezas[\"IBU\"].mode()"
   ]
  },
  {
   "cell_type": "code",
   "execution_count": 64,
   "id": "9c4d7b98",
   "metadata": {},
   "outputs": [
    {
     "data": {
      "text/plain": [
       "0    5.0\n",
       "dtype: float64"
      ]
     },
     "execution_count": 64,
     "metadata": {},
     "output_type": "execute_result"
    }
   ],
   "source": [
    "df_cervezas[\"Alcohol\"].mode()"
   ]
  },
  {
   "cell_type": "markdown",
   "id": "78e63b75",
   "metadata": {},
   "source": [
    "Así podemos ver que la moda de IBU son 16 y 19, y la del alcohol es 5"
   ]
  },
  {
   "cell_type": "code",
   "execution_count": 65,
   "id": "c322639c",
   "metadata": {},
   "outputs": [
    {
     "name": "stderr",
     "output_type": "stream",
     "text": [
      "C:\\Users\\iaace\\AppData\\Local\\Temp/ipykernel_18928/3924243719.py:1: FutureWarning: Dropping of nuisance columns in DataFrame reductions (with 'numeric_only=None') is deprecated; in a future version this will raise TypeError.  Select only valid columns before calling the reduction.\n",
      "  df_cervezas.var()\n"
     ]
    },
    {
     "data": {
      "text/plain": [
       "Alcohol      1.060000\n",
       "IBU        172.914316\n",
       "dtype: float64"
      ]
     },
     "execution_count": 65,
     "metadata": {},
     "output_type": "execute_result"
    }
   ],
   "source": [
    "df_cervezas.var()"
   ]
  },
  {
   "cell_type": "code",
   "execution_count": 66,
   "id": "ce2acba2",
   "metadata": {},
   "outputs": [
    {
     "data": {
      "text/plain": [
       "<AxesSubplot:>"
      ]
     },
     "execution_count": 66,
     "metadata": {},
     "output_type": "execute_result"
    },
    {
     "data": {
      "image/png": "[encoded data removed]",
      "text/plain": [
       "<Figure size 432x288 with 1 Axes>"
      ]
     },
     "metadata": {
      "needs_background": "light"
     },
     "output_type": "display_data"
    }
   ],
   "source": [
    "df_cervezas.boxplot()"
   ]
  },
  {
   "cell_type": "code",
   "execution_count": 67,
   "id": "8efb7b79",
   "metadata": {},
   "outputs": [
    {
     "data": {
      "text/plain": [
       "<AxesSubplot:xlabel='Alcohol', ylabel='IBU'>"
      ]
     },
     "execution_count": 67,
     "metadata": {},
     "output_type": "execute_result"
    },
    {
     "data": {
      "image/png": "[encoded data removed]",
      "text/plain": [
       "<Figure size 432x288 with 1 Axes>"
      ]
     },
     "metadata": {
      "needs_background": "light"
     },
     "output_type": "display_data"
    }
   ],
   "source": [
    "df_cervezas.plot.scatter(x='Alcohol',y='IBU')"
   ]
  },
  {
   "cell_type": "code",
   "execution_count": 68,
   "id": "07230641",
   "metadata": {},
   "outputs": [
    {
     "data": {
      "text/plain": [
       "array([[<AxesSubplot:title={'center':'Alcohol'}>,\n",
       "        <AxesSubplot:title={'center':'IBU'}>]], dtype=object)"
      ]
     },
     "execution_count": 68,
     "metadata": {},
     "output_type": "execute_result"
    },
    {
     "data": {
      "image/png": "[encoded data removed]",
      "text/plain": [
       "<Figure size 432x288 with 2 Axes>"
      ]
     },
     "metadata": {
      "needs_background": "light"
     },
     "output_type": "display_data"
    }
   ],
   "source": [
    "df_cervezas.hist()"
   ]
  },
  {
   "cell_type": "code",
   "execution_count": 69,
   "id": "21721bbc",
   "metadata": {},
   "outputs": [
    {
     "data": {
      "text/html": [
       "<div>\n",
       "<style scoped>\n",
       "    .dataframe tbody tr th:only-of-type {\n",
       "        vertical-align: middle;\n",
       "    }\n",
       "\n",
       "    .dataframe tbody tr th {\n",
       "        vertical-align: top;\n",
       "    }\n",
       "\n",
       "    .dataframe thead th {\n",
       "        text-align: right;\n",
       "    }\n",
       "</style>\n",
       "<table border=\"1\" class=\"dataframe\">\n",
       "  <thead>\n",
       "    <tr style=\"text-align: right;\">\n",
       "      <th></th>\n",
       "      <th>Alcohol</th>\n",
       "      <th>IBU</th>\n",
       "    </tr>\n",
       "  </thead>\n",
       "  <tbody>\n",
       "    <tr>\n",
       "      <th>Alcohol</th>\n",
       "      <td>1.00000</td>\n",
       "      <td>0.41422</td>\n",
       "    </tr>\n",
       "    <tr>\n",
       "      <th>IBU</th>\n",
       "      <td>0.41422</td>\n",
       "      <td>1.00000</td>\n",
       "    </tr>\n",
       "  </tbody>\n",
       "</table>\n",
       "</div>"
      ],
      "text/plain": [
       "         Alcohol      IBU\n",
       "Alcohol  1.00000  0.41422\n",
       "IBU      0.41422  1.00000"
      ]
     },
     "execution_count": 69,
     "metadata": {},
     "output_type": "execute_result"
    }
   ],
   "source": [
    "df_cervezas.corr()"
   ]
  },
  {
   "cell_type": "code",
   "execution_count": 70,
   "id": "241ee674",
   "metadata": {},
   "outputs": [
    {
     "data": {
      "text/html": [
       "<div>\n",
       "<style scoped>\n",
       "    .dataframe tbody tr th:only-of-type {\n",
       "        vertical-align: middle;\n",
       "    }\n",
       "\n",
       "    .dataframe tbody tr th {\n",
       "        vertical-align: top;\n",
       "    }\n",
       "\n",
       "    .dataframe thead th {\n",
       "        text-align: right;\n",
       "    }\n",
       "</style>\n",
       "<table border=\"1\" class=\"dataframe\">\n",
       "  <thead>\n",
       "    <tr style=\"text-align: right;\">\n",
       "      <th></th>\n",
       "      <th>Alcohol</th>\n",
       "      <th>IBU</th>\n",
       "    </tr>\n",
       "  </thead>\n",
       "  <tbody>\n",
       "    <tr>\n",
       "      <th>Alcohol</th>\n",
       "      <td>1.060000</td>\n",
       "      <td>5.607895</td>\n",
       "    </tr>\n",
       "    <tr>\n",
       "      <th>IBU</th>\n",
       "      <td>5.607895</td>\n",
       "      <td>172.914316</td>\n",
       "    </tr>\n",
       "  </tbody>\n",
       "</table>\n",
       "</div>"
      ],
      "text/plain": [
       "          Alcohol         IBU\n",
       "Alcohol  1.060000    5.607895\n",
       "IBU      5.607895  172.914316"
      ]
     },
     "execution_count": 70,
     "metadata": {},
     "output_type": "execute_result"
    }
   ],
   "source": [
    "df_cervezas.cov()"
   ]
  },
  {
   "cell_type": "markdown",
   "id": "7ef43347",
   "metadata": {},
   "source": [
    "## 3. Transformación e imputación de datos"
   ]
  },
  {
   "cell_type": "code",
   "execution_count": 71,
   "id": "3ba1bc94",
   "metadata": {},
   "outputs": [
    {
     "name": "stdout",
     "output_type": "stream",
     "text": [
      "<class 'pandas.core.frame.DataFrame'>\n",
      "RangeIndex: 13580 entries, 0 to 13579\n",
      "Data columns (total 21 columns):\n",
      " #   Column         Non-Null Count  Dtype  \n",
      "---  ------         --------------  -----  \n",
      " 0   Suburb         13580 non-null  object \n",
      " 1   Address        13580 non-null  object \n",
      " 2   Rooms          13580 non-null  int64  \n",
      " 3   Type           13580 non-null  object \n",
      " 4   Price          13580 non-null  float64\n",
      " 5   Method         13580 non-null  object \n",
      " 6   SellerG        13580 non-null  object \n",
      " 7   Date           13580 non-null  object \n",
      " 8   Distance       13580 non-null  float64\n",
      " 9   Postcode       13580 non-null  float64\n",
      " 10  Bedroom2       13580 non-null  float64\n",
      " 11  Bathroom       13580 non-null  float64\n",
      " 12  Car            13518 non-null  float64\n",
      " 13  Landsize       13580 non-null  float64\n",
      " 14  BuildingArea   7130 non-null   float64\n",
      " 15  YearBuilt      8205 non-null   float64\n",
      " 16  CouncilArea    12211 non-null  object \n",
      " 17  Lattitude      13580 non-null  float64\n",
      " 18  Longtitude     13580 non-null  float64\n",
      " 19  Regionname     13580 non-null  object \n",
      " 20  Propertycount  13580 non-null  float64\n",
      "dtypes: float64(12), int64(1), object(8)\n",
      "memory usage: 2.2+ MB\n"
     ]
    }
   ],
   "source": [
    "df2 = pd.read_csv('ejemplo_data2.csv')\n",
    "df2.info()"
   ]
  },
  {
   "cell_type": "code",
   "execution_count": 72,
   "id": "928eab19",
   "metadata": {},
   "outputs": [
    {
     "data": {
      "text/plain": [
       "Suburb              0\n",
       "Address             0\n",
       "Rooms               0\n",
       "Type                0\n",
       "Price               0\n",
       "Method              0\n",
       "SellerG             0\n",
       "Date                0\n",
       "Distance            0\n",
       "Postcode            0\n",
       "Bedroom2            0\n",
       "Bathroom            0\n",
       "Car                62\n",
       "Landsize            0\n",
       "BuildingArea     6450\n",
       "YearBuilt        5375\n",
       "CouncilArea      1369\n",
       "Lattitude           0\n",
       "Longtitude          0\n",
       "Regionname          0\n",
       "Propertycount       0\n",
       "dtype: int64"
      ]
     },
     "execution_count": 72,
     "metadata": {},
     "output_type": "execute_result"
    }
   ],
   "source": [
    "df2.isnull().sum()"
   ]
  },
  {
   "cell_type": "code",
   "execution_count": 73,
   "id": "09dead49",
   "metadata": {},
   "outputs": [],
   "source": [
    "#Notamos que la columna CouncilArea es categorica, por ende la transformaremos a numerica para poder trajabar\n",
    "from sklearn.preprocessing import LabelEncoder\n",
    "labelenconder_council = LabelEncoder()\n",
    "df2['CouncilArea']=labelenconder_council.fit_transform(df2['CouncilArea'])"
   ]
  },
  {
   "cell_type": "code",
   "execution_count": 74,
   "id": "6a2fd9bc",
   "metadata": {},
   "outputs": [],
   "source": [
    "#Usamos el metodo SimpleImputer para reemplazar facilmente los valores faltantes por la media \n",
    "from sklearn.impute import SimpleImputer \n",
    "df2_na=df2.iloc[:,[12,14,15,16]]\n",
    "imputer = SimpleImputer(missing_values=np.nan, strategy='mean') \n",
    "fit_df2_na = imputer.fit(df2_na) \n",
    "df2.iloc[:,[12,14,15,16]] = fit_df2_na.transform(df2_na)"
   ]
  },
  {
   "cell_type": "code",
   "execution_count": 75,
   "id": "85f59dde",
   "metadata": {},
   "outputs": [],
   "source": [
    "for i in [0,1,3,5,6,7,19]:\n",
    "    labelenconder_cat = LabelEncoder()\n",
    "    categ = df2.iloc[:,i]\n",
    "    df2.iloc[:,i]=labelenconder_cat.fit_transform(categ)\n",
    "    "
   ]
  },
  {
   "cell_type": "code",
   "execution_count": 76,
   "id": "47d2f830",
   "metadata": {},
   "outputs": [
    {
     "name": "stdout",
     "output_type": "stream",
     "text": [
      "<class 'pandas.core.frame.DataFrame'>\n",
      "RangeIndex: 13580 entries, 0 to 13579\n",
      "Data columns (total 21 columns):\n",
      " #   Column         Non-Null Count  Dtype  \n",
      "---  ------         --------------  -----  \n",
      " 0   Suburb         13580 non-null  int32  \n",
      " 1   Address        13580 non-null  int32  \n",
      " 2   Rooms          13580 non-null  int64  \n",
      " 3   Type           13580 non-null  int32  \n",
      " 4   Price          13580 non-null  float64\n",
      " 5   Method         13580 non-null  int32  \n",
      " 6   SellerG        13580 non-null  int32  \n",
      " 7   Date           13580 non-null  int32  \n",
      " 8   Distance       13580 non-null  float64\n",
      " 9   Postcode       13580 non-null  float64\n",
      " 10  Bedroom2       13580 non-null  float64\n",
      " 11  Bathroom       13580 non-null  float64\n",
      " 12  Car            13580 non-null  float64\n",
      " 13  Landsize       13580 non-null  float64\n",
      " 14  BuildingArea   13580 non-null  float64\n",
      " 15  YearBuilt      13580 non-null  float64\n",
      " 16  CouncilArea    13580 non-null  float64\n",
      " 17  Lattitude      13580 non-null  float64\n",
      " 18  Longtitude     13580 non-null  float64\n",
      " 19  Regionname     13580 non-null  int32  \n",
      " 20  Propertycount  13580 non-null  float64\n",
      "dtypes: float64(13), int32(7), int64(1)\n",
      "memory usage: 1.8 MB\n"
     ]
    }
   ],
   "source": [
    "df2.info()"
   ]
  },
  {
   "cell_type": "code",
   "execution_count": 77,
   "id": "6cf4fe3a",
   "metadata": {},
   "outputs": [
    {
     "data": {
      "text/plain": [
       "Suburb           0\n",
       "Address          0\n",
       "Rooms            0\n",
       "Type             0\n",
       "Price            0\n",
       "Method           0\n",
       "SellerG          0\n",
       "Date             0\n",
       "Distance         0\n",
       "Postcode         0\n",
       "Bedroom2         0\n",
       "Bathroom         0\n",
       "Car              0\n",
       "Landsize         0\n",
       "BuildingArea     0\n",
       "YearBuilt        0\n",
       "CouncilArea      0\n",
       "Lattitude        0\n",
       "Longtitude       0\n",
       "Regionname       0\n",
       "Propertycount    0\n",
       "dtype: int64"
      ]
     },
     "execution_count": 77,
     "metadata": {},
     "output_type": "execute_result"
    }
   ],
   "source": [
    "df2.isnull().sum() # verificamos si aun quedan valores NaN's"
   ]
  },
  {
   "cell_type": "markdown",
   "id": "7319de3a",
   "metadata": {},
   "source": [
    "## 4. Visualización de datos"
   ]
  },
  {
   "cell_type": "code",
   "execution_count": 78,
   "id": "def46d3b",
   "metadata": {},
   "outputs": [],
   "source": [
    "mean = np.random.rand(2)\n",
    "cov = np.array([[1,0],[0,1]])\n",
    "datos_1 = np.random.multivariate_normal(mean, cov, 100) \n",
    "datos_1 = np.hstack([datos_1, np.zeros((datos_1.shape[0],1))])"
   ]
  },
  {
   "cell_type": "code",
   "execution_count": 79,
   "id": "67788dbd",
   "metadata": {},
   "outputs": [
    {
     "data": {
      "text/html": [
       "<div>\n",
       "<style scoped>\n",
       "    .dataframe tbody tr th:only-of-type {\n",
       "        vertical-align: middle;\n",
       "    }\n",
       "\n",
       "    .dataframe tbody tr th {\n",
       "        vertical-align: top;\n",
       "    }\n",
       "\n",
       "    .dataframe thead th {\n",
       "        text-align: right;\n",
       "    }\n",
       "</style>\n",
       "<table border=\"1\" class=\"dataframe\">\n",
       "  <thead>\n",
       "    <tr style=\"text-align: right;\">\n",
       "      <th></th>\n",
       "      <th>x</th>\n",
       "      <th>y</th>\n",
       "      <th>z</th>\n",
       "    </tr>\n",
       "  </thead>\n",
       "  <tbody>\n",
       "    <tr>\n",
       "      <th>0</th>\n",
       "      <td>0.909484</td>\n",
       "      <td>-1.337857</td>\n",
       "      <td>0.0</td>\n",
       "    </tr>\n",
       "    <tr>\n",
       "      <th>1</th>\n",
       "      <td>0.874990</td>\n",
       "      <td>0.350847</td>\n",
       "      <td>0.0</td>\n",
       "    </tr>\n",
       "    <tr>\n",
       "      <th>2</th>\n",
       "      <td>0.331033</td>\n",
       "      <td>1.020437</td>\n",
       "      <td>0.0</td>\n",
       "    </tr>\n",
       "    <tr>\n",
       "      <th>3</th>\n",
       "      <td>1.027433</td>\n",
       "      <td>2.457460</td>\n",
       "      <td>0.0</td>\n",
       "    </tr>\n",
       "    <tr>\n",
       "      <th>4</th>\n",
       "      <td>0.465278</td>\n",
       "      <td>2.051790</td>\n",
       "      <td>0.0</td>\n",
       "    </tr>\n",
       "    <tr>\n",
       "      <th>...</th>\n",
       "      <td>...</td>\n",
       "      <td>...</td>\n",
       "      <td>...</td>\n",
       "    </tr>\n",
       "    <tr>\n",
       "      <th>95</th>\n",
       "      <td>0.339991</td>\n",
       "      <td>1.022084</td>\n",
       "      <td>0.0</td>\n",
       "    </tr>\n",
       "    <tr>\n",
       "      <th>96</th>\n",
       "      <td>-0.932728</td>\n",
       "      <td>0.406178</td>\n",
       "      <td>0.0</td>\n",
       "    </tr>\n",
       "    <tr>\n",
       "      <th>97</th>\n",
       "      <td>2.247627</td>\n",
       "      <td>0.699920</td>\n",
       "      <td>0.0</td>\n",
       "    </tr>\n",
       "    <tr>\n",
       "      <th>98</th>\n",
       "      <td>1.225083</td>\n",
       "      <td>0.810939</td>\n",
       "      <td>0.0</td>\n",
       "    </tr>\n",
       "    <tr>\n",
       "      <th>99</th>\n",
       "      <td>1.738652</td>\n",
       "      <td>2.217231</td>\n",
       "      <td>0.0</td>\n",
       "    </tr>\n",
       "  </tbody>\n",
       "</table>\n",
       "<p>100 rows × 3 columns</p>\n",
       "</div>"
      ],
      "text/plain": [
       "           x         y    z\n",
       "0   0.909484 -1.337857  0.0\n",
       "1   0.874990  0.350847  0.0\n",
       "2   0.331033  1.020437  0.0\n",
       "3   1.027433  2.457460  0.0\n",
       "4   0.465278  2.051790  0.0\n",
       "..       ...       ...  ...\n",
       "95  0.339991  1.022084  0.0\n",
       "96 -0.932728  0.406178  0.0\n",
       "97  2.247627  0.699920  0.0\n",
       "98  1.225083  0.810939  0.0\n",
       "99  1.738652  2.217231  0.0\n",
       "\n",
       "[100 rows x 3 columns]"
      ]
     },
     "execution_count": 79,
     "metadata": {},
     "output_type": "execute_result"
    }
   ],
   "source": [
    "df_1 = pd.DataFrame(datos_1, columns=['x','y','z'])\n",
    "df_1"
   ]
  },
  {
   "cell_type": "code",
   "execution_count": 80,
   "id": "fe2d249d",
   "metadata": {},
   "outputs": [],
   "source": [
    "mean2 = np.random.rand(2)\n",
    "cov2 = np.array([[1,0],[0,1]])\n",
    "datos_2 = np.random.multivariate_normal(mean2, cov2, 100) \n",
    "datos_2 = np.hstack([datos_2, np.ones((datos_1.shape[0],1))])\n",
    "df_2 = pd.DataFrame(datos_2, columns=['x','y','z'])"
   ]
  },
  {
   "cell_type": "code",
   "execution_count": 81,
   "id": "ace264a7",
   "metadata": {},
   "outputs": [
    {
     "data": {
      "text/html": [
       "<div>\n",
       "<style scoped>\n",
       "    .dataframe tbody tr th:only-of-type {\n",
       "        vertical-align: middle;\n",
       "    }\n",
       "\n",
       "    .dataframe tbody tr th {\n",
       "        vertical-align: top;\n",
       "    }\n",
       "\n",
       "    .dataframe thead th {\n",
       "        text-align: right;\n",
       "    }\n",
       "</style>\n",
       "<table border=\"1\" class=\"dataframe\">\n",
       "  <thead>\n",
       "    <tr style=\"text-align: right;\">\n",
       "      <th></th>\n",
       "      <th>x</th>\n",
       "      <th>y</th>\n",
       "      <th>z</th>\n",
       "    </tr>\n",
       "  </thead>\n",
       "  <tbody>\n",
       "    <tr>\n",
       "      <th>0</th>\n",
       "      <td>-1.232705</td>\n",
       "      <td>1.913077</td>\n",
       "      <td>1.0</td>\n",
       "    </tr>\n",
       "    <tr>\n",
       "      <th>1</th>\n",
       "      <td>1.465023</td>\n",
       "      <td>-0.028579</td>\n",
       "      <td>1.0</td>\n",
       "    </tr>\n",
       "    <tr>\n",
       "      <th>2</th>\n",
       "      <td>0.197734</td>\n",
       "      <td>1.336773</td>\n",
       "      <td>1.0</td>\n",
       "    </tr>\n",
       "    <tr>\n",
       "      <th>3</th>\n",
       "      <td>0.608596</td>\n",
       "      <td>0.743783</td>\n",
       "      <td>1.0</td>\n",
       "    </tr>\n",
       "    <tr>\n",
       "      <th>4</th>\n",
       "      <td>0.600574</td>\n",
       "      <td>0.414979</td>\n",
       "      <td>1.0</td>\n",
       "    </tr>\n",
       "    <tr>\n",
       "      <th>...</th>\n",
       "      <td>...</td>\n",
       "      <td>...</td>\n",
       "      <td>...</td>\n",
       "    </tr>\n",
       "    <tr>\n",
       "      <th>95</th>\n",
       "      <td>-1.230634</td>\n",
       "      <td>0.959136</td>\n",
       "      <td>1.0</td>\n",
       "    </tr>\n",
       "    <tr>\n",
       "      <th>96</th>\n",
       "      <td>0.730033</td>\n",
       "      <td>2.634511</td>\n",
       "      <td>1.0</td>\n",
       "    </tr>\n",
       "    <tr>\n",
       "      <th>97</th>\n",
       "      <td>0.247753</td>\n",
       "      <td>0.997783</td>\n",
       "      <td>1.0</td>\n",
       "    </tr>\n",
       "    <tr>\n",
       "      <th>98</th>\n",
       "      <td>-1.321014</td>\n",
       "      <td>3.420754</td>\n",
       "      <td>1.0</td>\n",
       "    </tr>\n",
       "    <tr>\n",
       "      <th>99</th>\n",
       "      <td>-0.414008</td>\n",
       "      <td>0.890746</td>\n",
       "      <td>1.0</td>\n",
       "    </tr>\n",
       "  </tbody>\n",
       "</table>\n",
       "<p>100 rows × 3 columns</p>\n",
       "</div>"
      ],
      "text/plain": [
       "           x         y    z\n",
       "0  -1.232705  1.913077  1.0\n",
       "1   1.465023 -0.028579  1.0\n",
       "2   0.197734  1.336773  1.0\n",
       "3   0.608596  0.743783  1.0\n",
       "4   0.600574  0.414979  1.0\n",
       "..       ...       ...  ...\n",
       "95 -1.230634  0.959136  1.0\n",
       "96  0.730033  2.634511  1.0\n",
       "97  0.247753  0.997783  1.0\n",
       "98 -1.321014  3.420754  1.0\n",
       "99 -0.414008  0.890746  1.0\n",
       "\n",
       "[100 rows x 3 columns]"
      ]
     },
     "execution_count": 81,
     "metadata": {},
     "output_type": "execute_result"
    }
   ],
   "source": [
    "df_2"
   ]
  },
  {
   "cell_type": "code",
   "execution_count": 82,
   "id": "32c0c874",
   "metadata": {},
   "outputs": [],
   "source": [
    "import seaborn as sns\n",
    "import matplotlib.pyplot as plt"
   ]
  },
  {
   "cell_type": "code",
   "execution_count": 83,
   "id": "6501855d",
   "metadata": {},
   "outputs": [
    {
     "data": {
      "text/html": [
       "<div>\n",
       "<style scoped>\n",
       "    .dataframe tbody tr th:only-of-type {\n",
       "        vertical-align: middle;\n",
       "    }\n",
       "\n",
       "    .dataframe tbody tr th {\n",
       "        vertical-align: top;\n",
       "    }\n",
       "\n",
       "    .dataframe thead th {\n",
       "        text-align: right;\n",
       "    }\n",
       "</style>\n",
       "<table border=\"1\" class=\"dataframe\">\n",
       "  <thead>\n",
       "    <tr style=\"text-align: right;\">\n",
       "      <th></th>\n",
       "      <th>x</th>\n",
       "      <th>y</th>\n",
       "      <th>z</th>\n",
       "    </tr>\n",
       "  </thead>\n",
       "  <tbody>\n",
       "    <tr>\n",
       "      <th>0</th>\n",
       "      <td>0.909484</td>\n",
       "      <td>-1.337857</td>\n",
       "      <td>0.0</td>\n",
       "    </tr>\n",
       "    <tr>\n",
       "      <th>1</th>\n",
       "      <td>0.874990</td>\n",
       "      <td>0.350847</td>\n",
       "      <td>0.0</td>\n",
       "    </tr>\n",
       "    <tr>\n",
       "      <th>2</th>\n",
       "      <td>0.331033</td>\n",
       "      <td>1.020437</td>\n",
       "      <td>0.0</td>\n",
       "    </tr>\n",
       "    <tr>\n",
       "      <th>3</th>\n",
       "      <td>1.027433</td>\n",
       "      <td>2.457460</td>\n",
       "      <td>0.0</td>\n",
       "    </tr>\n",
       "    <tr>\n",
       "      <th>4</th>\n",
       "      <td>0.465278</td>\n",
       "      <td>2.051790</td>\n",
       "      <td>0.0</td>\n",
       "    </tr>\n",
       "    <tr>\n",
       "      <th>...</th>\n",
       "      <td>...</td>\n",
       "      <td>...</td>\n",
       "      <td>...</td>\n",
       "    </tr>\n",
       "    <tr>\n",
       "      <th>195</th>\n",
       "      <td>-1.230634</td>\n",
       "      <td>0.959136</td>\n",
       "      <td>1.0</td>\n",
       "    </tr>\n",
       "    <tr>\n",
       "      <th>196</th>\n",
       "      <td>0.730033</td>\n",
       "      <td>2.634511</td>\n",
       "      <td>1.0</td>\n",
       "    </tr>\n",
       "    <tr>\n",
       "      <th>197</th>\n",
       "      <td>0.247753</td>\n",
       "      <td>0.997783</td>\n",
       "      <td>1.0</td>\n",
       "    </tr>\n",
       "    <tr>\n",
       "      <th>198</th>\n",
       "      <td>-1.321014</td>\n",
       "      <td>3.420754</td>\n",
       "      <td>1.0</td>\n",
       "    </tr>\n",
       "    <tr>\n",
       "      <th>199</th>\n",
       "      <td>-0.414008</td>\n",
       "      <td>0.890746</td>\n",
       "      <td>1.0</td>\n",
       "    </tr>\n",
       "  </tbody>\n",
       "</table>\n",
       "<p>200 rows × 3 columns</p>\n",
       "</div>"
      ],
      "text/plain": [
       "            x         y    z\n",
       "0    0.909484 -1.337857  0.0\n",
       "1    0.874990  0.350847  0.0\n",
       "2    0.331033  1.020437  0.0\n",
       "3    1.027433  2.457460  0.0\n",
       "4    0.465278  2.051790  0.0\n",
       "..        ...       ...  ...\n",
       "195 -1.230634  0.959136  1.0\n",
       "196  0.730033  2.634511  1.0\n",
       "197  0.247753  0.997783  1.0\n",
       "198 -1.321014  3.420754  1.0\n",
       "199 -0.414008  0.890746  1.0\n",
       "\n",
       "[200 rows x 3 columns]"
      ]
     },
     "execution_count": 83,
     "metadata": {},
     "output_type": "execute_result"
    }
   ],
   "source": [
    "datos = np.concatenate([datos_1,datos_2])\n",
    "bd = pd.DataFrame(datos, columns=['x','y','z'])\n",
    "bd"
   ]
  },
  {
   "cell_type": "code",
   "execution_count": 84,
   "id": "0ba8e18e",
   "metadata": {},
   "outputs": [
    {
     "name": "stderr",
     "output_type": "stream",
     "text": [
      "C:\\Users\\iaace\\anaconda3\\lib\\site-packages\\seaborn\\distributions.py:2619: FutureWarning: `distplot` is a deprecated function and will be removed in a future version. Please adapt your code to use either `displot` (a figure-level function with similar flexibility) or `histplot` (an axes-level function for histograms).\n",
      "  warnings.warn(msg, FutureWarning)\n"
     ]
    },
    {
     "data": {
      "text/plain": [
       "<AxesSubplot:ylabel='Density'>"
      ]
     },
     "execution_count": 84,
     "metadata": {},
     "output_type": "execute_result"
    },
    {
     "data": {
      "image/png": "[encoded data removed]",
      "text/plain": [
       "<Figure size 432x288 with 1 Axes>"
      ]
     },
     "metadata": {
      "needs_background": "light"
     },
     "output_type": "display_data"
    }
   ],
   "source": [
    "sns.distplot(df_1, bins=20, kde=True, rug=False)"
   ]
  },
  {
   "cell_type": "code",
   "execution_count": 85,
   "id": "a3da3a40",
   "metadata": {},
   "outputs": [
    {
     "name": "stderr",
     "output_type": "stream",
     "text": [
      "C:\\Users\\iaace\\anaconda3\\lib\\site-packages\\seaborn\\distributions.py:2619: FutureWarning: `distplot` is a deprecated function and will be removed in a future version. Please adapt your code to use either `displot` (a figure-level function with similar flexibility) or `histplot` (an axes-level function for histograms).\n",
      "  warnings.warn(msg, FutureWarning)\n"
     ]
    },
    {
     "data": {
      "text/plain": [
       "<AxesSubplot:xlabel='x', ylabel='Density'>"
      ]
     },
     "execution_count": 85,
     "metadata": {},
     "output_type": "execute_result"
    },
    {
     "data": {
      "image/png": "[encoded data removed]",
      "text/plain": [
       "<Figure size 432x288 with 1 Axes>"
      ]
     },
     "metadata": {
      "needs_background": "light"
     },
     "output_type": "display_data"
    }
   ],
   "source": [
    "sns.distplot(df_1['x'], bins=20, kde=True, rug=False)"
   ]
  },
  {
   "cell_type": "code",
   "execution_count": 86,
   "id": "f5fad9ee",
   "metadata": {},
   "outputs": [
    {
     "data": {
      "text/plain": [
       "<seaborn.axisgrid.JointGrid at 0x1ee359bf490>"
      ]
     },
     "execution_count": 86,
     "metadata": {},
     "output_type": "execute_result"
    },
    {
     "data": {
      "image/png": "[encoded data removed]",
      "text/plain": [
       "<Figure size 432x432 with 3 Axes>"
      ]
     },
     "metadata": {
      "needs_background": "light"
     },
     "output_type": "display_data"
    }
   ],
   "source": [
    "sns.jointplot(x = 'x', y = 'y', data = bd)"
   ]
  },
  {
   "cell_type": "code",
   "execution_count": 87,
   "id": "78c81346",
   "metadata": {},
   "outputs": [
    {
     "data": {
      "text/plain": [
       "<seaborn.axisgrid.JointGrid at 0x1ee35c21880>"
      ]
     },
     "execution_count": 87,
     "metadata": {},
     "output_type": "execute_result"
    },
    {
     "data": {
      "image/png": "[encoded data removed]",
      "text/plain": [
       "<Figure size 432x432 with 3 Axes>"
      ]
     },
     "metadata": {
      "needs_background": "light"
     },
     "output_type": "display_data"
    }
   ],
   "source": [
    "sns.jointplot(x = 'x', y = 'y', data = bd, kind='hex')"
   ]
  },
  {
   "cell_type": "code",
   "execution_count": 89,
   "id": "3db1a1f4",
   "metadata": {},
   "outputs": [
    {
     "data": {
      "text/plain": [
       "<seaborn.axisgrid.JointGrid at 0x1ee35efee80>"
      ]
     },
     "execution_count": 89,
     "metadata": {},
     "output_type": "execute_result"
    },
    {
     "data": {
      "image/png": "[encoded data removed]",
      "text/plain": [
       "<Figure size 432x432 with 3 Axes>"
      ]
     },
     "metadata": {
      "needs_background": "light"
     },
     "output_type": "display_data"
    }
   ],
   "source": [
    "sns.jointplot(x = 'x', y = 'y', data = bd, hue='z')"
   ]
  },
  {
   "cell_type": "code",
   "execution_count": 95,
   "id": "dfc13a48",
   "metadata": {},
   "outputs": [
    {
     "data": {
      "text/plain": [
       "<AxesSubplot:xlabel='x'>"
      ]
     },
     "execution_count": 95,
     "metadata": {},
     "output_type": "execute_result"
    },
    {
     "data": {
      "image/png": "[encoded data removed]",
      "text/plain": [
       "<Figure size 432x288 with 1 Axes>"
      ]
     },
     "metadata": {
      "needs_background": "light"
     },
     "output_type": "display_data"
    }
   ],
   "source": [
    "sns.boxplot(x = bd['x'], data=bd)"
   ]
  },
  {
   "cell_type": "code",
   "execution_count": 96,
   "id": "9ec0c55a",
   "metadata": {},
   "outputs": [
    {
     "data": {
      "text/plain": [
       "<AxesSubplot:xlabel='y'>"
      ]
     },
     "execution_count": 96,
     "metadata": {},
     "output_type": "execute_result"
    },
    {
     "data": {
      "image/png": "[encoded data removed]",
      "text/plain": [
       "<Figure size 432x288 with 1 Axes>"
      ]
     },
     "metadata": {
      "needs_background": "light"
     },
     "output_type": "display_data"
    }
   ],
   "source": [
    "sns.boxplot(x = bd['y'], data=bd)"
   ]
  },
  {
   "cell_type": "code",
   "execution_count": 97,
   "id": "8972a574",
   "metadata": {},
   "outputs": [
    {
     "data": {
      "text/plain": [
       "<AxesSubplot:>"
      ]
     },
     "execution_count": 97,
     "metadata": {},
     "output_type": "execute_result"
    },
    {
     "data": {
      "image/png": "[encoded data removed]",
      "text/plain": [
       "<Figure size 432x288 with 1 Axes>"
      ]
     },
     "metadata": {
      "needs_background": "light"
     },
     "output_type": "display_data"
    }
   ],
   "source": [
    "bd.boxplot()"
   ]
  },
  {
   "cell_type": "code",
   "execution_count": null,
   "id": "51ce3c37",
   "metadata": {},
   "outputs": [],
   "source": []
  }
 ],
 "metadata": {
  "kernelspec": {
   "display_name": "Python 3 (ipykernel)",
   "language": "python",
   "name": "python3"
  },
  "language_info": {
   "codemirror_mode": {
    "name": "ipython",
    "version": 3
   },
   "file_extension": ".py",
   "mimetype": "text/x-python",
   "name": "python",
   "nbconvert_exporter": "python",
   "pygments_lexer": "ipython3",
   "version": "3.9.7"
  }
 },
 "nbformat": 4,
 "nbformat_minor": 5
}
