{
 "cells": [
  {
   "cell_type": "markdown",
   "id": "901ae64e",
   "metadata": {},
   "source": [
    "# Mini Proyecto 3"
   ]
  },
  {
   "cell_type": "markdown",
   "id": "8ca05fa6",
   "metadata": {},
   "source": [
    "## Implementación y visualización de k-means en 2D"
   ]
  },
  {
   "cell_type": "code",
   "execution_count": 1,
   "id": "563440f2",
   "metadata": {},
   "outputs": [],
   "source": [
    "import pandas as pd\n",
    "import numpy as np\n",
    "import matplotlib.pyplot as plt\n",
    "import seaborn as sns\n",
    "import scipy\n",
    "from scipy.stats import multivariate_normal as mvn\n",
    "from sklearn.metrics import davies_bouldin_score\n",
    "from sklearn.metrics import silhouette_score\n",
    "from sklearn.cluster import KMeans"
   ]
  },
  {
   "cell_type": "code",
   "execution_count": 2,
   "id": "401c5c94",
   "metadata": {},
   "outputs": [
    {
     "data": {
      "text/html": [
       "<div>\n",
       "<style scoped>\n",
       "    .dataframe tbody tr th:only-of-type {\n",
       "        vertical-align: middle;\n",
       "    }\n",
       "\n",
       "    .dataframe tbody tr th {\n",
       "        vertical-align: top;\n",
       "    }\n",
       "\n",
       "    .dataframe thead th {\n",
       "        text-align: right;\n",
       "    }\n",
       "</style>\n",
       "<table border=\"1\" class=\"dataframe\">\n",
       "  <thead>\n",
       "    <tr style=\"text-align: right;\">\n",
       "      <th></th>\n",
       "      <th>A</th>\n",
       "      <th>B</th>\n",
       "    </tr>\n",
       "  </thead>\n",
       "  <tbody>\n",
       "    <tr>\n",
       "      <th>0</th>\n",
       "      <td>-3.032505</td>\n",
       "      <td>-3.367918</td>\n",
       "    </tr>\n",
       "    <tr>\n",
       "      <th>1</th>\n",
       "      <td>-2.603797</td>\n",
       "      <td>-1.616394</td>\n",
       "    </tr>\n",
       "    <tr>\n",
       "      <th>2</th>\n",
       "      <td>-1.357223</td>\n",
       "      <td>-0.199628</td>\n",
       "    </tr>\n",
       "    <tr>\n",
       "      <th>3</th>\n",
       "      <td>-2.992206</td>\n",
       "      <td>-3.523316</td>\n",
       "    </tr>\n",
       "    <tr>\n",
       "      <th>4</th>\n",
       "      <td>-1.708192</td>\n",
       "      <td>-1.007209</td>\n",
       "    </tr>\n",
       "    <tr>\n",
       "      <th>...</th>\n",
       "      <td>...</td>\n",
       "      <td>...</td>\n",
       "    </tr>\n",
       "    <tr>\n",
       "      <th>395</th>\n",
       "      <td>11.387093</td>\n",
       "      <td>11.833448</td>\n",
       "    </tr>\n",
       "    <tr>\n",
       "      <th>396</th>\n",
       "      <td>10.228298</td>\n",
       "      <td>11.730811</td>\n",
       "    </tr>\n",
       "    <tr>\n",
       "      <th>397</th>\n",
       "      <td>11.256921</td>\n",
       "      <td>12.703525</td>\n",
       "    </tr>\n",
       "    <tr>\n",
       "      <th>398</th>\n",
       "      <td>11.142780</td>\n",
       "      <td>11.767086</td>\n",
       "    </tr>\n",
       "    <tr>\n",
       "      <th>399</th>\n",
       "      <td>12.862287</td>\n",
       "      <td>12.428069</td>\n",
       "    </tr>\n",
       "  </tbody>\n",
       "</table>\n",
       "<p>400 rows × 2 columns</p>\n",
       "</div>"
      ],
      "text/plain": [
       "             A          B\n",
       "0    -3.032505  -3.367918\n",
       "1    -2.603797  -1.616394\n",
       "2    -1.357223  -0.199628\n",
       "3    -2.992206  -3.523316\n",
       "4    -1.708192  -1.007209\n",
       "..         ...        ...\n",
       "395  11.387093  11.833448\n",
       "396  10.228298  11.730811\n",
       "397  11.256921  12.703525\n",
       "398  11.142780  11.767086\n",
       "399  12.862287  12.428069\n",
       "\n",
       "[400 rows x 2 columns]"
      ]
     },
     "execution_count": 2,
     "metadata": {},
     "output_type": "execute_result"
    }
   ],
   "source": [
    "df = pd.read_csv('kmeans1.csv')\n",
    "df"
   ]
  },
  {
   "cell_type": "code",
   "execution_count": 3,
   "id": "069e68d4",
   "metadata": {},
   "outputs": [
    {
     "name": "stdout",
     "output_type": "stream",
     "text": [
      "<class 'pandas.core.frame.DataFrame'>\n",
      "RangeIndex: 400 entries, 0 to 399\n",
      "Data columns (total 2 columns):\n",
      " #   Column  Non-Null Count  Dtype  \n",
      "---  ------  --------------  -----  \n",
      " 0   A       400 non-null    float64\n",
      " 1   B       400 non-null    float64\n",
      "dtypes: float64(2)\n",
      "memory usage: 6.4 KB\n"
     ]
    }
   ],
   "source": [
    "df.info()"
   ]
  },
  {
   "cell_type": "code",
   "execution_count": 4,
   "id": "9961778e",
   "metadata": {
    "scrolled": true
   },
   "outputs": [
    {
     "data": {
      "text/plain": [
       "A    0\n",
       "B    0\n",
       "dtype: int64"
      ]
     },
     "execution_count": 4,
     "metadata": {},
     "output_type": "execute_result"
    }
   ],
   "source": [
    "df.isna().sum()"
   ]
  },
  {
   "cell_type": "code",
   "execution_count": 5,
   "id": "3b544615",
   "metadata": {},
   "outputs": [
    {
     "data": {
      "text/plain": [
       "0"
      ]
     },
     "execution_count": 5,
     "metadata": {},
     "output_type": "execute_result"
    }
   ],
   "source": [
    "df.duplicated().sum()"
   ]
  },
  {
   "cell_type": "markdown",
   "id": "486e0942",
   "metadata": {},
   "source": [
    "explorando nuestro dataset, tenemos que sus variables serán numericas y no hay valores faltantes ni duplicados"
   ]
  },
  {
   "cell_type": "code",
   "execution_count": 6,
   "id": "6abe19b4",
   "metadata": {},
   "outputs": [
    {
     "data": {
      "image/png": "[encoded data removed]",
      "text/plain": [
       "<Figure size 432x288 with 1 Axes>"
      ]
     },
     "metadata": {
      "needs_background": "light"
     },
     "output_type": "display_data"
    }
   ],
   "source": [
    "plt.scatter(x='A',y='B',data=df)\n",
    "plt.show()"
   ]
  },
  {
   "cell_type": "code",
   "execution_count": 7,
   "id": "0454d302",
   "metadata": {},
   "outputs": [
    {
     "name": "stdout",
     "output_type": "stream",
     "text": [
      "Davies Bouldin Score K-means:   0.3474016130934537\n"
     ]
    }
   ],
   "source": [
    "k_means = KMeans(n_clusters=2) #probamos con 2 clusters\n",
    "k_means.fit(df)\n",
    "print(f\"Davies Bouldin Score K-means:   {davies_bouldin_score(df,k_means.labels_)}\")"
   ]
  },
  {
   "cell_type": "code",
   "execution_count": 8,
   "id": "a6a48f46",
   "metadata": {
    "scrolled": true
   },
   "outputs": [
    {
     "name": "stderr",
     "output_type": "stream",
     "text": [
      "C:\\Users\\iaace\\anaconda3\\lib\\site-packages\\sklearn\\cluster\\_kmeans.py:881: UserWarning: KMeans is known to have a memory leak on Windows with MKL, when there are less chunks than available threads. You can avoid it by setting the environment variable OMP_NUM_THREADS=2.\n",
      "  warnings.warn(\n"
     ]
    },
    {
     "data": {
      "image/png": "[encoded data removed]",
      "text/plain": [
       "<Figure size 432x288 with 1 Axes>"
      ]
     },
     "metadata": {
      "needs_background": "light"
     },
     "output_type": "display_data"
    }
   ],
   "source": [
    "sse = {}\n",
    "for k in range(1, 11):\n",
    "    kmeans = KMeans(n_clusters=k, max_iter=1000).fit(df)\n",
    "    sse[k] = kmeans.inertia_  #retorna la suma de las distancias al \n",
    "  #cuadrado desde cada punto al centroide del cluster más cercano\n",
    "\n",
    "sse\n",
    "plt.figure()\n",
    "plt.plot(list(sse.keys()), list(sse.values()))\n",
    "plt.xlabel(\"Number of cluster\")\n",
    "plt.ylabel(\"SSE\")\n",
    "plt.show()"
   ]
  },
  {
   "cell_type": "markdown",
   "id": "e24474d0",
   "metadata": {},
   "source": [
    "por la regla del codo, escogemos 4 clusters"
   ]
  },
  {
   "cell_type": "code",
   "execution_count": 9,
   "id": "e3043bde",
   "metadata": {},
   "outputs": [
    {
     "data": {
      "text/plain": [
       "KMeans(n_clusters=4)"
      ]
     },
     "execution_count": 9,
     "metadata": {},
     "output_type": "execute_result"
    }
   ],
   "source": [
    "k_means = KMeans(n_clusters=4)\n",
    "k_means.fit(df)"
   ]
  },
  {
   "cell_type": "code",
   "execution_count": 10,
   "id": "d2819935",
   "metadata": {},
   "outputs": [],
   "source": [
    "df['clase'] = k_means.labels_"
   ]
  },
  {
   "cell_type": "code",
   "execution_count": 11,
   "id": "d2eea9f8",
   "metadata": {},
   "outputs": [
    {
     "data": {
      "image/png": "[encoded data removed]",
      "text/plain": [
       "<Figure size 432x288 with 1 Axes>"
      ]
     },
     "metadata": {
      "needs_background": "light"
     },
     "output_type": "display_data"
    }
   ],
   "source": [
    "colores = ['r.', 'b.', 'y.', 'g.']\n",
    "for i in range(0,4):\n",
    "    plt.plot(df['A'][df['clase']==i],df['B'][df['clase']==i],colores[i])\n",
    "plt.ylabel('x2')\n",
    "plt.xlabel('x1')\n",
    "plt.show()"
   ]
  },
  {
   "cell_type": "markdown",
   "id": "2a1ee9af",
   "metadata": {},
   "source": [
    "## Análisis de clusters"
   ]
  },
  {
   "cell_type": "code",
   "execution_count": 12,
   "id": "7a40fcce",
   "metadata": {},
   "outputs": [
    {
     "data": {
      "text/html": [
       "<div>\n",
       "<style scoped>\n",
       "    .dataframe tbody tr th:only-of-type {\n",
       "        vertical-align: middle;\n",
       "    }\n",
       "\n",
       "    .dataframe tbody tr th {\n",
       "        vertical-align: top;\n",
       "    }\n",
       "\n",
       "    .dataframe thead th {\n",
       "        text-align: right;\n",
       "    }\n",
       "</style>\n",
       "<table border=\"1\" class=\"dataframe\">\n",
       "  <thead>\n",
       "    <tr style=\"text-align: right;\">\n",
       "      <th></th>\n",
       "      <th>Amplitude</th>\n",
       "      <th>AndersonDarling</th>\n",
       "      <th>Autocor_length</th>\n",
       "      <th>Beyond1Std</th>\n",
       "      <th>Gskew</th>\n",
       "      <th>LinearTrend</th>\n",
       "      <th>MaxSlope</th>\n",
       "      <th>Mean</th>\n",
       "      <th>Meanvariance</th>\n",
       "      <th>MedianAbsDev</th>\n",
       "      <th>MedianBRP</th>\n",
       "      <th>PercentAmplitude</th>\n",
       "      <th>PeriodLS</th>\n",
       "    </tr>\n",
       "  </thead>\n",
       "  <tbody>\n",
       "    <tr>\n",
       "      <th>0</th>\n",
       "      <td>0.02700</td>\n",
       "      <td>0.000000</td>\n",
       "      <td>3</td>\n",
       "      <td>0.270000</td>\n",
       "      <td>0.0190</td>\n",
       "      <td>-0.000007</td>\n",
       "      <td>0.130305</td>\n",
       "      <td>14.270917</td>\n",
       "      <td>0.000995</td>\n",
       "      <td>0.0090</td>\n",
       "      <td>0.533333</td>\n",
       "      <td>0.004906</td>\n",
       "      <td>17.880565</td>\n",
       "    </tr>\n",
       "    <tr>\n",
       "      <th>1</th>\n",
       "      <td>0.21400</td>\n",
       "      <td>0.000000</td>\n",
       "      <td>18</td>\n",
       "      <td>0.346667</td>\n",
       "      <td>0.1260</td>\n",
       "      <td>0.000001</td>\n",
       "      <td>0.010560</td>\n",
       "      <td>13.696013</td>\n",
       "      <td>0.008650</td>\n",
       "      <td>0.0975</td>\n",
       "      <td>0.240000</td>\n",
       "      <td>0.026910</td>\n",
       "      <td>0.997859</td>\n",
       "    </tr>\n",
       "    <tr>\n",
       "      <th>2</th>\n",
       "      <td>0.27050</td>\n",
       "      <td>0.000000</td>\n",
       "      <td>1</td>\n",
       "      <td>0.223333</td>\n",
       "      <td>0.2320</td>\n",
       "      <td>-0.000010</td>\n",
       "      <td>0.319591</td>\n",
       "      <td>19.368090</td>\n",
       "      <td>0.006736</td>\n",
       "      <td>0.0710</td>\n",
       "      <td>0.530000</td>\n",
       "      <td>0.027474</td>\n",
       "      <td>2.534404</td>\n",
       "    </tr>\n",
       "    <tr>\n",
       "      <th>3</th>\n",
       "      <td>0.34250</td>\n",
       "      <td>0.000000</td>\n",
       "      <td>13</td>\n",
       "      <td>0.396667</td>\n",
       "      <td>-0.0170</td>\n",
       "      <td>-0.000090</td>\n",
       "      <td>0.664452</td>\n",
       "      <td>14.216857</td>\n",
       "      <td>0.013279</td>\n",
       "      <td>0.1515</td>\n",
       "      <td>0.250000</td>\n",
       "      <td>0.029652</td>\n",
       "      <td>117.161715</td>\n",
       "    </tr>\n",
       "    <tr>\n",
       "      <th>4</th>\n",
       "      <td>0.01075</td>\n",
       "      <td>0.097155</td>\n",
       "      <td>1</td>\n",
       "      <td>0.313830</td>\n",
       "      <td>-0.0020</td>\n",
       "      <td>-0.000002</td>\n",
       "      <td>0.105675</td>\n",
       "      <td>13.609633</td>\n",
       "      <td>0.000410</td>\n",
       "      <td>0.0040</td>\n",
       "      <td>0.494681</td>\n",
       "      <td>0.001470</td>\n",
       "      <td>7.655264</td>\n",
       "    </tr>\n",
       "    <tr>\n",
       "      <th>...</th>\n",
       "      <td>...</td>\n",
       "      <td>...</td>\n",
       "      <td>...</td>\n",
       "      <td>...</td>\n",
       "      <td>...</td>\n",
       "      <td>...</td>\n",
       "      <td>...</td>\n",
       "      <td>...</td>\n",
       "      <td>...</td>\n",
       "      <td>...</td>\n",
       "      <td>...</td>\n",
       "      <td>...</td>\n",
       "      <td>...</td>\n",
       "    </tr>\n",
       "    <tr>\n",
       "      <th>4995</th>\n",
       "      <td>0.04000</td>\n",
       "      <td>0.112777</td>\n",
       "      <td>2</td>\n",
       "      <td>0.340000</td>\n",
       "      <td>0.0040</td>\n",
       "      <td>-0.000014</td>\n",
       "      <td>1.689189</td>\n",
       "      <td>13.335943</td>\n",
       "      <td>0.001613</td>\n",
       "      <td>0.0155</td>\n",
       "      <td>0.420000</td>\n",
       "      <td>0.004724</td>\n",
       "      <td>17.743225</td>\n",
       "    </tr>\n",
       "    <tr>\n",
       "      <th>4996</th>\n",
       "      <td>0.21250</td>\n",
       "      <td>0.000000</td>\n",
       "      <td>50</td>\n",
       "      <td>0.463333</td>\n",
       "      <td>-0.0655</td>\n",
       "      <td>-0.000224</td>\n",
       "      <td>11.590296</td>\n",
       "      <td>14.113617</td>\n",
       "      <td>0.009283</td>\n",
       "      <td>0.1250</td>\n",
       "      <td>0.303333</td>\n",
       "      <td>0.018120</td>\n",
       "      <td>1375.234215</td>\n",
       "    </tr>\n",
       "    <tr>\n",
       "      <th>4997</th>\n",
       "      <td>0.02175</td>\n",
       "      <td>0.030271</td>\n",
       "      <td>4</td>\n",
       "      <td>0.333333</td>\n",
       "      <td>0.0100</td>\n",
       "      <td>-0.000031</td>\n",
       "      <td>0.014262</td>\n",
       "      <td>14.477476</td>\n",
       "      <td>0.000819</td>\n",
       "      <td>0.0090</td>\n",
       "      <td>0.295238</td>\n",
       "      <td>0.002141</td>\n",
       "      <td>1111.578564</td>\n",
       "    </tr>\n",
       "    <tr>\n",
       "      <th>4998</th>\n",
       "      <td>0.02650</td>\n",
       "      <td>0.446972</td>\n",
       "      <td>2</td>\n",
       "      <td>0.313333</td>\n",
       "      <td>0.0030</td>\n",
       "      <td>0.000013</td>\n",
       "      <td>0.140885</td>\n",
       "      <td>13.661500</td>\n",
       "      <td>0.000972</td>\n",
       "      <td>0.0090</td>\n",
       "      <td>0.430000</td>\n",
       "      <td>0.003221</td>\n",
       "      <td>2866.316360</td>\n",
       "    </tr>\n",
       "    <tr>\n",
       "      <th>4999</th>\n",
       "      <td>0.03600</td>\n",
       "      <td>0.031931</td>\n",
       "      <td>6</td>\n",
       "      <td>0.336667</td>\n",
       "      <td>-0.0040</td>\n",
       "      <td>0.000018</td>\n",
       "      <td>0.731626</td>\n",
       "      <td>13.688950</td>\n",
       "      <td>0.001408</td>\n",
       "      <td>0.0145</td>\n",
       "      <td>0.296667</td>\n",
       "      <td>0.003324</td>\n",
       "      <td>317.108773</td>\n",
       "    </tr>\n",
       "  </tbody>\n",
       "</table>\n",
       "<p>5000 rows × 13 columns</p>\n",
       "</div>"
      ],
      "text/plain": [
       "      Amplitude  AndersonDarling  Autocor_length  Beyond1Std   Gskew  \\\n",
       "0       0.02700         0.000000               3    0.270000  0.0190   \n",
       "1       0.21400         0.000000              18    0.346667  0.1260   \n",
       "2       0.27050         0.000000               1    0.223333  0.2320   \n",
       "3       0.34250         0.000000              13    0.396667 -0.0170   \n",
       "4       0.01075         0.097155               1    0.313830 -0.0020   \n",
       "...         ...              ...             ...         ...     ...   \n",
       "4995    0.04000         0.112777               2    0.340000  0.0040   \n",
       "4996    0.21250         0.000000              50    0.463333 -0.0655   \n",
       "4997    0.02175         0.030271               4    0.333333  0.0100   \n",
       "4998    0.02650         0.446972               2    0.313333  0.0030   \n",
       "4999    0.03600         0.031931               6    0.336667 -0.0040   \n",
       "\n",
       "      LinearTrend   MaxSlope       Mean  Meanvariance  MedianAbsDev  \\\n",
       "0       -0.000007   0.130305  14.270917      0.000995        0.0090   \n",
       "1        0.000001   0.010560  13.696013      0.008650        0.0975   \n",
       "2       -0.000010   0.319591  19.368090      0.006736        0.0710   \n",
       "3       -0.000090   0.664452  14.216857      0.013279        0.1515   \n",
       "4       -0.000002   0.105675  13.609633      0.000410        0.0040   \n",
       "...           ...        ...        ...           ...           ...   \n",
       "4995    -0.000014   1.689189  13.335943      0.001613        0.0155   \n",
       "4996    -0.000224  11.590296  14.113617      0.009283        0.1250   \n",
       "4997    -0.000031   0.014262  14.477476      0.000819        0.0090   \n",
       "4998     0.000013   0.140885  13.661500      0.000972        0.0090   \n",
       "4999     0.000018   0.731626  13.688950      0.001408        0.0145   \n",
       "\n",
       "      MedianBRP  PercentAmplitude     PeriodLS  \n",
       "0      0.533333          0.004906    17.880565  \n",
       "1      0.240000          0.026910     0.997859  \n",
       "2      0.530000          0.027474     2.534404  \n",
       "3      0.250000          0.029652   117.161715  \n",
       "4      0.494681          0.001470     7.655264  \n",
       "...         ...               ...          ...  \n",
       "4995   0.420000          0.004724    17.743225  \n",
       "4996   0.303333          0.018120  1375.234215  \n",
       "4997   0.295238          0.002141  1111.578564  \n",
       "4998   0.430000          0.003221  2866.316360  \n",
       "4999   0.296667          0.003324   317.108773  \n",
       "\n",
       "[5000 rows x 13 columns]"
      ]
     },
     "execution_count": 12,
     "metadata": {},
     "output_type": "execute_result"
    }
   ],
   "source": [
    "df2 = pd.read_csv('kmeans2.csv', index_col=0) # cargamos los datos\n",
    "df2"
   ]
  },
  {
   "cell_type": "code",
   "execution_count": 13,
   "id": "2c22503a",
   "metadata": {},
   "outputs": [
    {
     "name": "stdout",
     "output_type": "stream",
     "text": [
      "<class 'pandas.core.frame.DataFrame'>\n",
      "Int64Index: 5000 entries, 0 to 4999\n",
      "Data columns (total 13 columns):\n",
      " #   Column            Non-Null Count  Dtype  \n",
      "---  ------            --------------  -----  \n",
      " 0   Amplitude         5000 non-null   float64\n",
      " 1   AndersonDarling   5000 non-null   float64\n",
      " 2   Autocor_length    5000 non-null   int64  \n",
      " 3   Beyond1Std        5000 non-null   float64\n",
      " 4   Gskew             5000 non-null   float64\n",
      " 5   LinearTrend       5000 non-null   float64\n",
      " 6   MaxSlope          5000 non-null   float64\n",
      " 7   Mean              5000 non-null   float64\n",
      " 8   Meanvariance      5000 non-null   float64\n",
      " 9   MedianAbsDev      5000 non-null   float64\n",
      " 10  MedianBRP         5000 non-null   float64\n",
      " 11  PercentAmplitude  5000 non-null   float64\n",
      " 12  PeriodLS          5000 non-null   float64\n",
      "dtypes: float64(12), int64(1)\n",
      "memory usage: 546.9 KB\n"
     ]
    }
   ],
   "source": [
    "df2.info()"
   ]
  },
  {
   "cell_type": "code",
   "execution_count": 14,
   "id": "8edec394",
   "metadata": {},
   "outputs": [
    {
     "data": {
      "text/plain": [
       "Amplitude           0\n",
       "AndersonDarling     0\n",
       "Autocor_length      0\n",
       "Beyond1Std          0\n",
       "Gskew               0\n",
       "LinearTrend         0\n",
       "MaxSlope            0\n",
       "Mean                0\n",
       "Meanvariance        0\n",
       "MedianAbsDev        0\n",
       "MedianBRP           0\n",
       "PercentAmplitude    0\n",
       "PeriodLS            0\n",
       "dtype: int64"
      ]
     },
     "execution_count": 14,
     "metadata": {},
     "output_type": "execute_result"
    }
   ],
   "source": [
    "df2.isna().sum()"
   ]
  },
  {
   "cell_type": "code",
   "execution_count": 15,
   "id": "132805a3",
   "metadata": {
    "scrolled": true
   },
   "outputs": [
    {
     "name": "stdout",
     "output_type": "stream",
     "text": [
      "0\n"
     ]
    }
   ],
   "source": [
    "print(df2.duplicated().sum())"
   ]
  },
  {
   "cell_type": "markdown",
   "id": "69d53fb0",
   "metadata": {},
   "source": [
    "Vemos que nuestras variables son numericas, que no hay valores faltantes, ni tampoco valores duplicados"
   ]
  },
  {
   "cell_type": "code",
   "execution_count": 16,
   "id": "301a2212",
   "metadata": {},
   "outputs": [],
   "source": [
    "df2 = ((df2-df2.min())/(df2.max()-df2.min())) # normalizamos"
   ]
  },
  {
   "cell_type": "markdown",
   "id": "84d7c378",
   "metadata": {},
   "source": [
    "### K-Means"
   ]
  },
  {
   "cell_type": "code",
   "execution_count": 17,
   "id": "c4ab4984",
   "metadata": {},
   "outputs": [
    {
     "name": "stdout",
     "output_type": "stream",
     "text": [
      "Davies Bouldin Score K-means:   1.4196802758203695\n"
     ]
    }
   ],
   "source": [
    "means = KMeans(n_clusters=2) #ajustamos a un modelo inicial\n",
    "means.fit(df2)\n",
    "\n",
    "print(f\"Davies Bouldin Score K-means:   {davies_bouldin_score(df2,means.labels_)}\")"
   ]
  },
  {
   "cell_type": "code",
   "execution_count": 18,
   "id": "c1e32379",
   "metadata": {},
   "outputs": [
    {
     "data": {
      "image/png": "[encoded data removed]",
      "text/plain": [
       "<Figure size 432x288 with 1 Axes>"
      ]
     },
     "metadata": {
      "needs_background": "light"
     },
     "output_type": "display_data"
    }
   ],
   "source": [
    "##buscamos la cantidad de clusters que mejor se ajuste a los datos\n",
    "\n",
    "inertia = {}\n",
    "for k in range(1, 20):\n",
    "    kmeans = KMeans(n_clusters=k, max_iter=1000).fit(df2)\n",
    "    inertia[k] = kmeans.inertia_ \n",
    "plt.figure()\n",
    "plt.plot(list(inertia.keys()), list(inertia.values()))\n",
    "plt.xlabel(\"Clusters\")\n",
    "plt.ylabel(\"SSE\")\n",
    "plt.show()"
   ]
  },
  {
   "cell_type": "code",
   "execution_count": 19,
   "id": "78331178",
   "metadata": {
    "scrolled": true
   },
   "outputs": [
    {
     "data": {
      "text/plain": [
       "array([800.488050, 610.219852, 463.632752, 375.676657, 334.337309,\n",
       "       286.985331, 261.926501, 242.847025, 227.067511, 215.296026,\n",
       "       199.770764, 190.252240, 183.187323, 173.637575, 166.029774,\n",
       "       160.695818, 155.646783, 150.853387, 148.304951])"
      ]
     },
     "execution_count": 19,
     "metadata": {},
     "output_type": "execute_result"
    }
   ],
   "source": [
    "np.set_printoptions(suppress=True,formatter={'float_kind':'{:f}'.format})\n",
    "x=np.array(list(inertia.values()))\n",
    "x"
   ]
  },
  {
   "cell_type": "markdown",
   "id": "c76cdc98",
   "metadata": {},
   "source": [
    "notamos que a partir de 6 clusters, la distancia intraclusters se empieza a mantener constante, por ende escogeremos esa cantidad de clusters."
   ]
  },
  {
   "cell_type": "code",
   "execution_count": 20,
   "id": "de0aa02c",
   "metadata": {},
   "outputs": [],
   "source": [
    "k_means = KMeans(n_clusters=6)\n",
    "k_means.fit(df2)\n",
    "labels_kmeans = k_means.labels_"
   ]
  },
  {
   "cell_type": "code",
   "execution_count": 21,
   "id": "2d9c605f",
   "metadata": {
    "scrolled": true
   },
   "outputs": [
    {
     "data": {
      "text/plain": [
       "array([[0.140902, 0.027434, 0.004752, 0.666248, 0.530755, 0.328065,\n",
       "        0.020807, 0.642192, 0.101201, 0.101076, 0.251826, 0.111137,\n",
       "        0.000385],\n",
       "       [0.059024, 0.035072, 0.128311, 0.611932, 0.546659, 0.327783,\n",
       "        0.001874, 0.232718, 0.053495, 0.040650, 0.292172, 0.058177,\n",
       "        0.023513],\n",
       "       [0.019789, 0.531626, 0.025216, 0.532665, 0.544368, 0.327836,\n",
       "        0.001914, 0.284747, 0.015252, 0.011939, 0.393778, 0.018630,\n",
       "        0.022650],\n",
       "       [0.018607, 0.080632, 0.039473, 0.490182, 0.545192, 0.327750,\n",
       "        0.002193, 0.281179, 0.014727, 0.009451, 0.469065, 0.020834,\n",
       "        0.035654],\n",
       "       [0.583913, 0.017272, 0.189700, 0.664765, 0.497056, 0.318331,\n",
       "        0.002166, 0.243101, 0.558191, 0.446289, 0.221811, 0.575457,\n",
       "        0.035157],\n",
       "       [0.134793, 0.007857, 0.010295, 0.290063, 0.611495, 0.330257,\n",
       "        0.026621, 0.710594, 0.078784, 0.050710, 0.657793, 0.148843,\n",
       "        0.001446]])"
      ]
     },
     "execution_count": 21,
     "metadata": {},
     "output_type": "execute_result"
    }
   ],
   "source": [
    "k_means.cluster_centers_ #exploramos los centros "
   ]
  },
  {
   "cell_type": "markdown",
   "id": "0df7d9cd",
   "metadata": {},
   "source": [
    "vemos que cada uno representan a un array de 14 dimensiones."
   ]
  },
  {
   "cell_type": "markdown",
   "id": "505459a2",
   "metadata": {},
   "source": [
    "### Cluster Jerárquico"
   ]
  },
  {
   "cell_type": "code",
   "execution_count": 22,
   "id": "4e602c74",
   "metadata": {
    "scrolled": true
   },
   "outputs": [
    {
     "data": {
      "text/plain": [
       "AgglomerativeClustering(distance_threshold=0, n_clusters=None)"
      ]
     },
     "execution_count": 22,
     "metadata": {},
     "output_type": "execute_result"
    }
   ],
   "source": [
    "from sklearn.cluster import AgglomerativeClustering as AC\n",
    "from scipy.cluster.hierarchy import dendrogram\n",
    "ac = AC(n_clusters=None, distance_threshold=0) # realizamos el primer ajuste sin clusters\n",
    "\n",
    "ac.fit(df2)    "
   ]
  },
  {
   "cell_type": "code",
   "execution_count": 23,
   "id": "76178d28",
   "metadata": {},
   "outputs": [],
   "source": [
    "def plot_dendrogram(model, **kwargs):\n",
    "    '''Grafica el dendograma'''\n",
    "\n",
    "    # create the counts of samples under each node\n",
    "    counts = np.zeros(model.children_.shape[0])\n",
    "    n_samples = len(model.labels_)\n",
    "    for i, merge in enumerate(model.children_):\n",
    "        current_count = 0\n",
    "        for child_idx in merge:\n",
    "            if child_idx < n_samples:\n",
    "                current_count += 1  # leaf node\n",
    "            else:\n",
    "                current_count += counts[child_idx - n_samples]\n",
    "        counts[i] = current_count\n",
    "\n",
    "    linkage_matrix = np.column_stack([model.children_, model.distances_,\n",
    "                                      counts]).astype(float)\n",
    "\n",
    "    # Plot the corresponding dendrogram\n",
    "    dendrogram(linkage_matrix, **kwargs)\n"
   ]
  },
  {
   "cell_type": "code",
   "execution_count": 24,
   "id": "fe5814cb",
   "metadata": {},
   "outputs": [
    {
     "data": {
      "image/png": "[encoded data removed]",
      "text/plain": [
       "<Figure size 432x288 with 1 Axes>"
      ]
     },
     "metadata": {
      "needs_background": "light"
     },
     "output_type": "display_data"
    }
   ],
   "source": [
    "plt.title('Cluster jerarquico Dendrograma') # graficamos nuestro dendongrama\n",
    "\n",
    "plot_dendrogram(ac, truncate_mode='level', p=3)\n",
    "\n",
    "plt.axhline(linestyle='--', y=15)\n",
    "plt.show()"
   ]
  },
  {
   "cell_type": "markdown",
   "id": "5f2fda88",
   "metadata": {},
   "source": [
    "Con esto podemos ver que necesitaremos 4 clusters, así que los ajustamos a ese valor."
   ]
  },
  {
   "cell_type": "code",
   "execution_count": 25,
   "id": "95a25b16",
   "metadata": {},
   "outputs": [],
   "source": [
    "ac = AC(n_clusters=4)\n",
    "\n",
    "ac.fit(df2)\n",
    "    \n",
    "labels_ac = ac.labels_"
   ]
  },
  {
   "cell_type": "code",
   "execution_count": null,
   "id": "86a547f8",
   "metadata": {},
   "outputs": [],
   "source": [
    "\n"
   ]
  },
  {
   "cell_type": "markdown",
   "id": "3325e891",
   "metadata": {},
   "source": [
    "### GMM"
   ]
  },
  {
   "cell_type": "code",
   "execution_count": 26,
   "id": "a06c1174",
   "metadata": {},
   "outputs": [],
   "source": [
    "from sklearn.mixture import GaussianMixture\n",
    "from sklearn.decomposition import PCA"
   ]
  },
  {
   "cell_type": "code",
   "execution_count": 27,
   "id": "f3986da9",
   "metadata": {},
   "outputs": [
    {
     "data": {
      "text/plain": [
       "5000"
      ]
     },
     "execution_count": 27,
     "metadata": {},
     "output_type": "execute_result"
    }
   ],
   "source": [
    "pca = PCA(n_components=2) # n dimensiones que queremos reducir nuestros datos\n",
    "pca.fit(df2)\n",
    "X = pca.transform(df2)\n",
    "len(X)"
   ]
  },
  {
   "cell_type": "code",
   "execution_count": 28,
   "id": "14256290",
   "metadata": {},
   "outputs": [
    {
     "data": {
      "text/plain": [
       "<AxesSubplot:xlabel='A', ylabel='B'>"
      ]
     },
     "execution_count": 28,
     "metadata": {},
     "output_type": "execute_result"
    },
    {
     "data": {
      "image/png": "[encoded data removed]",
      "text/plain": [
       "<Figure size 432x288 with 1 Axes>"
      ]
     },
     "metadata": {
      "needs_background": "light"
     },
     "output_type": "display_data"
    }
   ],
   "source": [
    "X=pd.DataFrame(X,columns=['A','B'])\n",
    "x=X.sample(500)\n",
    "sns.scatterplot(x='A',y='B', data=x)"
   ]
  },
  {
   "cell_type": "code",
   "execution_count": 29,
   "id": "6653b80d",
   "metadata": {},
   "outputs": [
    {
     "data": {
      "text/plain": [
       "Text(0.5, 0, 'n_componentes')"
      ]
     },
     "execution_count": 29,
     "metadata": {},
     "output_type": "execute_result"
    },
    {
     "data": {
      "image/png": "[encoded data removed]",
      "text/plain": [
       "<Figure size 1080x1080 with 1 Axes>"
      ]
     },
     "metadata": {
      "needs_background": "light"
     },
     "output_type": "display_data"
    }
   ],
   "source": [
    "n_componentes = np.arange(1,20)\n",
    "\n",
    "modelos = [GaussianMixture(n, covariance_type = 'full', random_state = 0).fit(X)\n",
    "           for n in n_componentes]\n",
    "plt.figure(figsize=(15,15))\n",
    "plt.plot(n_componentes, [ m.bic(X) for m in modelos], label = 'BIC')\n",
    "\n",
    "plt.plot(n_componentes, [ m.aic(X) for m in modelos], label = 'AIC')\n",
    "\n",
    "plt.legend(loc='best')\n",
    "plt.xlabel('n_componentes')"
   ]
  },
  {
   "cell_type": "markdown",
   "id": "690f9da1",
   "metadata": {},
   "source": [
    "notamos que el valor minimo en BIC se obtiene con 12 clusters, si bien en AIC el minimo no se obtiene en eso, vemos que a partir 12 clusters se empieza a mantener constante."
   ]
  },
  {
   "cell_type": "code",
   "execution_count": 30,
   "id": "9c0c761c",
   "metadata": {},
   "outputs": [
    {
     "data": {
      "text/plain": [
       "array([0, 2, 9, ..., 8, 3, 8], dtype=int64)"
      ]
     },
     "execution_count": 30,
     "metadata": {},
     "output_type": "execute_result"
    }
   ],
   "source": [
    "gmm = GaussianMixture(n_components=10, covariance_type='full', random_state = 0) #ajustamos a 12 clusters\n",
    "gmm.fit(X)\n",
    "labels_gmm = gmm.predict(X)\n",
    "labels_gmm"
   ]
  },
  {
   "cell_type": "code",
   "execution_count": 31,
   "id": "f8b62065",
   "metadata": {
    "scrolled": false
   },
   "outputs": [
    {
     "name": "stdout",
     "output_type": "stream",
     "text": [
      "---------------------\n",
      "Gaussiana 0\n",
      "Medias\n",
      "[-0.027542 -0.039601]\n",
      "Covarianza\n",
      "[[0.004446 0.001878]\n",
      " [0.001878 0.004774]]\n",
      "---------------------\n",
      "Gaussiana 1\n",
      "Medias\n",
      "[0.157047 -0.029987]\n",
      "Covarianza\n",
      "[[0.007116 0.000094]\n",
      " [0.000094 0.008173]]\n",
      "---------------------\n",
      "Gaussiana 2\n",
      "Medias\n",
      "[0.011609 0.255169]\n",
      "Covarianza\n",
      "[[0.006351 0.000347]\n",
      " [0.000347 0.008566]]\n",
      "---------------------\n",
      "Gaussiana 3\n",
      "Medias\n",
      "[0.411062 -0.196998]\n",
      "Covarianza\n",
      "[[0.018883 -0.008508]\n",
      " [-0.008508 0.010680]]\n",
      "---------------------\n",
      "Gaussiana 4\n",
      "Medias\n",
      "[-0.279606 -0.230228]\n",
      "Covarianza\n",
      "[[0.017666 -0.001627]\n",
      " [-0.001627 0.011423]]\n",
      "---------------------\n",
      "Gaussiana 5\n",
      "Medias\n",
      "[0.238982 -0.157075]\n",
      "Covarianza\n",
      "[[0.012722 -0.000646]\n",
      " [-0.000646 0.022086]]\n",
      "---------------------\n",
      "Gaussiana 6\n",
      "Medias\n",
      "[-0.380687 0.025486]\n",
      "Covarianza\n",
      "[[0.001050 -0.000105]\n",
      " [-0.000105 0.004438]]\n",
      "---------------------\n",
      "Gaussiana 7\n",
      "Medias\n",
      "[-0.153832 0.193557]\n",
      "Covarianza\n",
      "[[0.017505 -0.006259]\n",
      " [-0.006259 0.030109]]\n",
      "---------------------\n",
      "Gaussiana 8\n",
      "Medias\n",
      "[0.033008 0.089583]\n",
      "Covarianza\n",
      "[[0.003949 0.000425]\n",
      " [0.000425 0.005045]]\n",
      "---------------------\n",
      "Gaussiana 9\n",
      "Medias\n",
      "[-0.448028 -0.345143]\n",
      "Covarianza\n",
      "[[0.011866 0.002253]\n",
      " [0.002253 0.013552]]\n"
     ]
    }
   ],
   "source": [
    "for i in range(gmm.n_components):\n",
    "    \n",
    "    density = mvn(cov = gmm.covariances_[i], mean = gmm.means_[i]).pdf(X)\n",
    "    print('---------------------')\n",
    "    print('Gaussiana '+str(i))\n",
    "    print('Medias')\n",
    "    print(gmm.means_[i])\n",
    "    print('Covarianza')\n",
    "    print(gmm.covariances_[i])\n"
   ]
  },
  {
   "cell_type": "code",
   "execution_count": null,
   "id": "59ac3a17",
   "metadata": {},
   "outputs": [],
   "source": []
  },
  {
   "cell_type": "code",
   "execution_count": 32,
   "id": "a1734f03",
   "metadata": {},
   "outputs": [
    {
     "name": "stdout",
     "output_type": "stream",
     "text": [
      "Davies Bouldin Score K-means:   1.097483096413885\n",
      "Davies Bouldin Score GMM:   1.818462676806152\n",
      "Silhouette Score K-means:   0.28040128911857726\n",
      "Silhouette Score GMM:   0.14571795976998156\n"
     ]
    }
   ],
   "source": [
    "kmeans_dbs = davies_bouldin_score(df2,labels=labels_kmeans)\n",
    "gmm_dbs = davies_bouldin_score(df2,labels=labels_gmm)\n",
    "kmeans_s = silhouette_score(df2,labels=labels_kmeans)\n",
    "gmm_s = silhouette_score(df2,labels=labels_gmm)\n",
    "print(f\"Davies Bouldin Score K-means:   {kmeans_dbs}\")\n",
    "print(f\"Davies Bouldin Score GMM:   {gmm_dbs}\")\n",
    "print(f\"Silhouette Score K-means:   {kmeans_s}\")\n",
    "print(f\"Silhouette Score GMM:   {gmm_s}\")"
   ]
  },
  {
   "cell_type": "markdown",
   "id": "f2aacb6e",
   "metadata": {},
   "source": [
    "Notamos que el que obtiene mejor desempeño es K-Means, esto posiblemente se deba a la caracteristica de los datos (notamos que en las covarianzas de gmm son cercanas a 0) lo que hace que se ajuste mejor a un modelo de K-Means."
   ]
  },
  {
   "cell_type": "code",
   "execution_count": null,
   "id": "d389a326",
   "metadata": {},
   "outputs": [],
   "source": []
  },
  {
   "cell_type": "code",
   "execution_count": null,
   "id": "eb3a6cb4",
   "metadata": {},
   "outputs": [],
   "source": []
  },
  {
   "cell_type": "code",
   "execution_count": null,
   "id": "07881553",
   "metadata": {},
   "outputs": [],
   "source": []
  }
 ],
 "metadata": {
  "kernelspec": {
   "display_name": "Python 3 (ipykernel)",
   "language": "python",
   "name": "python3"
  },
  "language_info": {
   "codemirror_mode": {
    "name": "ipython",
    "version": 3
   },
   "file_extension": ".py",
   "mimetype": "text/x-python",
   "name": "python",
   "nbconvert_exporter": "python",
   "pygments_lexer": "ipython3",
   "version": "3.9.7"
  }
 },
 "nbformat": 4,
 "nbformat_minor": 5
}
